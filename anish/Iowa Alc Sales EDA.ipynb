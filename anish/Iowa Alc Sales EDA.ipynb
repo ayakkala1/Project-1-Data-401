{
 "cells": [
  {
   "cell_type": "markdown",
   "metadata": {},
   "source": [
    "## Imports"
   ]
  },
  {
   "cell_type": "code",
   "execution_count": 1,
   "metadata": {},
   "outputs": [],
   "source": [
    "import numpy as np\n",
    "import pandas as pd\n",
    "import re\n",
    "import scipy.stats as stats\n",
    "import matplotlib.pyplot as plt\n",
    "import pylab "
   ]
  },
  {
   "cell_type": "markdown",
   "metadata": {},
   "source": [
    "## Important Functions"
   ]
  },
  {
   "cell_type": "code",
   "execution_count": 219,
   "metadata": {},
   "outputs": [],
   "source": [
    "pd.set_option('display.max_columns', None)\n",
    "\n",
    "def linear_regression(X, y):\n",
    "    X = pd.get_dummies(X, drop_first = True)._get_numeric_data().values\n",
    "    y = y.values\n",
    "    \n",
    "    intercept_col = np.ones(X.shape[0]).reshape(X.shape[0],1)\n",
    "    X = np.hstack((intercept_col, X))\n",
    "    b = np.linalg.inv(X.T@X)@X.T@y\n",
    "    return b\n",
    "\n",
    "def rmse(slopes, X_test, y_test):\n",
    "    X_test = pd.get_dummies(X_test, drop_first = True)._get_numeric_data().values\n",
    "    intercept_col = np.ones(X_test.shape[0]).reshape(X_test.shape[0],1)\n",
    "    X_test = np.hstack((intercept_col, X_test))\n",
    "    \n",
    "    y_val_pred = X_test @ b\n",
    "    y_val = y_test.values\n",
    "    return np.sqrt(((y_val - y_val_pred) ** 2).mean())\n",
    "    \n",
    "def train_test_split(frac, X, response = 'Volume Sold (Gallons)'):\n",
    "    X_train = X.sample(frac = frac)\n",
    "    X_test = X.drop(X_train.index, axis = 0)\n",
    "    \n",
    "\n",
    "    y_train = X_train[response]\n",
    "    X_train = X_train.drop(['County','Area Name',response], axis = 1)\n",
    "    \n",
    "   \n",
    "    y_test = X_test[response]\n",
    "    X_test = X_test.drop(['County','Area Name',response], axis = 1)\n",
    "    \n",
    "    \n",
    "    return X_train,X_test, y_train, y_test\n",
    "\n",
    "def r2(b, X, y):\n",
    "    X = pd.get_dummies(X, drop_first = True)._get_numeric_data().values\n",
    "    y = y.values\n",
    "    intercept_col = np.ones(X.shape[0]).reshape(X.shape[0],1)\n",
    "    X = np.hstack((intercept_col, X))\n",
    "    \n",
    "    ss_tot = ((y - y.mean()) ** 2).sum()\n",
    "    \n",
    "    y_val_pred = X @ b\n",
    "    ss_res = ((y - y_val_pred) ** 2).sum()\n",
    "    return 1 - (ss_res/ss_tot)\n",
    "\n",
    "def qqplot(b, X, y):\n",
    "    X = pd.get_dummies(X, drop_first = True)._get_numeric_data().values\n",
    "    y = y.values\n",
    "    intercept_col = np.ones(X.shape[0]).reshape(X.shape[0],1)\n",
    "    X = np.hstack((intercept_col, X))\n",
    "    \n",
    "    y_val_pred = X @ b\n",
    "\n",
    "    stats.probplot(y - y_val_pred, dist=\"norm\", plot=pylab)\n",
    "    pylab.show()\n",
    "def resid_vs_fit(b, X, y):\n",
    "    X = pd.get_dummies(X, drop_first = True)._get_numeric_data().values\n",
    "    y = y.values\n",
    "    intercept_col = np.ones(X.shape[0]).reshape(X.shape[0],1)\n",
    "    X = np.hstack((intercept_col, X))\n",
    "    \n",
    "    y_val_pred = X @ b\n",
    "    resid = y - y_val_pred\n",
    "    plt.scatter(y_val_pred, resid)\n",
    "    plt.show()\n",
    "    \n",
    "def aic(b, X, y):\n",
    "    X = pd.get_dummies(X, drop_first = True)._get_numeric_data().values\n",
    "    y = y.values\n",
    "    intercept_col = np.ones(X.shape[0]).reshape(X.shape[0],1)\n",
    "    X = np.hstack((intercept_col, X))\n",
    "    y_val_pred = X @ b\n",
    "    \n",
    "    ss_tot = ((y - y.mean()) ** 2).sum()\n",
    "    ss_res = ((y - y_val_pred) ** 2).sum()\n",
    "    sigmasq = ss_tot / X.shape[0]\n",
    "    p = X.shape[1]\n",
    "    \n",
    "    return (ss_res + 2 *(p * sigmasq)) / ss_tot\n",
    "\n",
    "def bic(b, X, y):\n",
    "    X = pd.get_dummies(X, drop_first = True)._get_numeric_data().values\n",
    "    y = y.values\n",
    "    intercept_col = np.ones(X.shape[0]).reshape(X.shape[0],1)\n",
    "    X = np.hstack((intercept_col, X))\n",
    "    y_val_pred = X @ b\n",
    "    \n",
    "    ss_tot = ((y - y.mean()) ** 2).sum()\n",
    "    ss_res = ((y - y_val_pred) ** 2).sum()\n",
    "    sigmasq = ss_tot / X.shape[0]\n",
    "    p = X.shape[1]\n",
    "    n = X.shape[0]\n",
    "    \n",
    "    return (ss_res + (np.log(n) * p * sigmasq)) / ss_tot\n",
    "\n",
    "def adj_r2(b, X, y):\n",
    "    X = pd.get_dummies(X, drop_first = True)._get_numeric_data().values\n",
    "    y = y.values\n",
    "    intercept_col = np.ones(X.shape[0]).reshape(X.shape[0],1)\n",
    "    X = np.hstack((intercept_col, X))\n",
    "    \n",
    "    ss_tot = ((y - y.mean()) ** 2).sum()\n",
    "    \n",
    "    y_val_pred = X @ b\n",
    "    ss_res = ((y - y_val_pred) ** 2).sum()\n",
    "    \n",
    "    r2 = 1 - (ss_res/ss_tot)\n",
    "    return 1 - (((1 - r2) * (X.shape[0] - 1)) / (X.shape[0] - X.shape[1] - 1))\n",
    "\n",
    "def cross_validation(X, y, k):\n",
    "    rmses = []\n",
    "    index_array = list(X.index)\n",
    "    np.random.shuffle(index_array)\n",
    "    index_folds = np.array_split(index_array, 5)\n",
    "    for i in range(k):\n",
    "        training_index = np.concatenate(index_folds[:i] + index_folds[(i+1):])\n",
    "        test_index = index_folds[i]\n",
    "        X_train = X.loc[training_index]\n",
    "        y_train = y.loc[training_index]\n",
    "        X_test = X.loc[test_index]\n",
    "        y_test = y.loc[test_index]\n",
    "        b = linear_regression(X_train, y_train)\n",
    "        rmses.append(rmse(b, X_test, y_test))\n",
    "    return np.mean(rmses)"
   ]
  },
  {
   "cell_type": "markdown",
   "metadata": {},
   "source": [
    "## Data Engineering and Merging"
   ]
  },
  {
   "cell_type": "code",
   "execution_count": 3,
   "metadata": {},
   "outputs": [
    {
     "name": "stderr",
     "output_type": "stream",
     "text": [
      "/Users/anishyakkala/Library/Python/3.6/lib/python/site-packages/IPython/core/interactiveshell.py:3063: DtypeWarning: Columns (6,14) have mixed types.Specify dtype option on import or set low_memory=False.\n",
      "  interactivity=interactivity, compiler=compiler, result=result)\n"
     ]
    }
   ],
   "source": [
    "df = pd.read_csv(\"../data/iowaliquor.csv\")\n",
    "df_sample = pd.read_csv(\"../data/iowa-sample.csv\")\n",
    "df_pop = pd.read_csv(\"../data/County_Population_in_Iowa_by_Year.csv\")\n"
   ]
  },
  {
   "cell_type": "code",
   "execution_count": 414,
   "metadata": {},
   "outputs": [],
   "source": [
    "df[\"Price Diff\"] = df[\"State Bottle Cost\"] - df[\"State Bottle Retail\"]"
   ]
  },
  {
   "cell_type": "code",
   "execution_count": 415,
   "metadata": {},
   "outputs": [],
   "source": [
    "df_raw_employment = pd.read_csv(\"../data/Iowa_Quarterly_Census_of_Employment_and_Wage_data__Statewide_and_County_.csv\")\n",
    "df_raw_employment.fillna(0)\n",
    "df_raw_employment[\"Area Name\"] = df_raw_employment[\"Area Name\"].str.lower()"
   ]
  },
  {
   "cell_type": "code",
   "execution_count": 474,
   "metadata": {},
   "outputs": [
    {
     "data": {
      "text/html": [
       "<div>\n",
       "<style scoped>\n",
       "    .dataframe tbody tr th:only-of-type {\n",
       "        vertical-align: middle;\n",
       "    }\n",
       "\n",
       "    .dataframe tbody tr th {\n",
       "        vertical-align: top;\n",
       "    }\n",
       "\n",
       "    .dataframe thead th {\n",
       "        text-align: right;\n",
       "    }\n",
       "</style>\n",
       "<table border=\"1\" class=\"dataframe\">\n",
       "  <thead>\n",
       "    <tr style=\"text-align: right;\">\n",
       "      <th></th>\n",
       "      <th>Year</th>\n",
       "      <th>Quarter</th>\n",
       "      <th>Area Type</th>\n",
       "      <th>Area Name</th>\n",
       "      <th>Industry</th>\n",
       "      <th>Description</th>\n",
       "      <th>Locations</th>\n",
       "      <th>Month 1</th>\n",
       "      <th>Month 2</th>\n",
       "      <th>Month 3</th>\n",
       "      <th>Average Emp</th>\n",
       "      <th>Wages</th>\n",
       "      <th>Average Wage</th>\n",
       "    </tr>\n",
       "  </thead>\n",
       "  <tbody>\n",
       "    <tr>\n",
       "      <th>0</th>\n",
       "      <td>2011</td>\n",
       "      <td>1</td>\n",
       "      <td>Statewide</td>\n",
       "      <td>statewide</td>\n",
       "      <td>11</td>\n",
       "      <td>Agriculture, Forestry, Fishing &amp; Hunt</td>\n",
       "      <td>1921</td>\n",
       "      <td>14343.0</td>\n",
       "      <td>14504.0</td>\n",
       "      <td>14895.0</td>\n",
       "      <td>14581.0</td>\n",
       "      <td>1.204824e+08</td>\n",
       "      <td>8263.0</td>\n",
       "    </tr>\n",
       "    <tr>\n",
       "      <th>1</th>\n",
       "      <td>2011</td>\n",
       "      <td>1</td>\n",
       "      <td>Statewide</td>\n",
       "      <td>statewide</td>\n",
       "      <td>21</td>\n",
       "      <td>Mining, Quarrying, &amp; Oil &amp; Gas Extrac</td>\n",
       "      <td>186</td>\n",
       "      <td>1638.0</td>\n",
       "      <td>1811.0</td>\n",
       "      <td>1818.0</td>\n",
       "      <td>1756.0</td>\n",
       "      <td>1.679560e+07</td>\n",
       "      <td>9567.0</td>\n",
       "    </tr>\n",
       "    <tr>\n",
       "      <th>2</th>\n",
       "      <td>2011</td>\n",
       "      <td>1</td>\n",
       "      <td>Statewide</td>\n",
       "      <td>statewide</td>\n",
       "      <td>22</td>\n",
       "      <td>Utilities</td>\n",
       "      <td>449</td>\n",
       "      <td>8330.0</td>\n",
       "      <td>8288.0</td>\n",
       "      <td>8328.0</td>\n",
       "      <td>8315.0</td>\n",
       "      <td>1.593543e+08</td>\n",
       "      <td>19164.0</td>\n",
       "    </tr>\n",
       "    <tr>\n",
       "      <th>3</th>\n",
       "      <td>2011</td>\n",
       "      <td>1</td>\n",
       "      <td>Statewide</td>\n",
       "      <td>statewide</td>\n",
       "      <td>23</td>\n",
       "      <td>Construction</td>\n",
       "      <td>8994</td>\n",
       "      <td>52324.0</td>\n",
       "      <td>51154.0</td>\n",
       "      <td>53629.0</td>\n",
       "      <td>52369.0</td>\n",
       "      <td>5.506093e+08</td>\n",
       "      <td>10514.0</td>\n",
       "    </tr>\n",
       "    <tr>\n",
       "      <th>4</th>\n",
       "      <td>2011</td>\n",
       "      <td>1</td>\n",
       "      <td>Statewide</td>\n",
       "      <td>statewide</td>\n",
       "      <td>31</td>\n",
       "      <td>Manufacturing</td>\n",
       "      <td>3985</td>\n",
       "      <td>201803.0</td>\n",
       "      <td>202120.0</td>\n",
       "      <td>203641.0</td>\n",
       "      <td>202521.0</td>\n",
       "      <td>2.454029e+09</td>\n",
       "      <td>12117.0</td>\n",
       "    </tr>\n",
       "  </tbody>\n",
       "</table>\n",
       "</div>"
      ],
      "text/plain": [
       "   Year  Quarter  Area Type  Area Name  Industry                            Description  Locations   Month 1   Month 2   Month 3  Average Emp         Wages  Average Wage\n",
       "0  2011  1        Statewide  statewide  11        Agriculture, Forestry, Fishing & Hunt  1921       14343.0   14504.0   14895.0   14581.0      1.204824e+08  8263.0      \n",
       "1  2011  1        Statewide  statewide  21        Mining, Quarrying, & Oil & Gas Extrac  186        1638.0    1811.0    1818.0    1756.0       1.679560e+07  9567.0      \n",
       "2  2011  1        Statewide  statewide  22        Utilities                              449        8330.0    8288.0    8328.0    8315.0       1.593543e+08  19164.0     \n",
       "3  2011  1        Statewide  statewide  23        Construction                           8994       52324.0   51154.0   53629.0   52369.0      5.506093e+08  10514.0     \n",
       "4  2011  1        Statewide  statewide  31        Manufacturing                          3985       201803.0  202120.0  203641.0  202521.0     2.454029e+09  12117.0     "
      ]
     },
     "execution_count": 474,
     "metadata": {},
     "output_type": "execute_result"
    }
   ],
   "source": [
    "df_raw_employment.head()"
   ]
  },
  {
   "cell_type": "code",
   "execution_count": 416,
   "metadata": {},
   "outputs": [],
   "source": [
    "df_employement = pd.pivot_table(df_raw_employment,\n",
    "               index = [\"Year\", \"Quarter\", \"Area Name\"],\n",
    "               values = [\"Average Emp\", \"Wages\"],\n",
    "               aggfunc = np.sum\n",
    "              ).reset_index()"
   ]
  },
  {
   "cell_type": "code",
   "execution_count": 417,
   "metadata": {},
   "outputs": [],
   "source": [
    "df_employement = df_employement.merge(pd.pivot_table(df_raw_employment,\n",
    "                                       index = [\"Year\", \"Quarter\", \"Area Name\"],\n",
    "                                       values = [\"Average Wage\"],\n",
    "                                       aggfunc = np.mean\n",
    "                                      ).reset_index(),\n",
    "                                        'inner')"
   ]
  },
  {
   "cell_type": "code",
   "execution_count": 418,
   "metadata": {},
   "outputs": [],
   "source": [
    "df_employement[\"Year\"] = df_employement[\"Year\"].astype('str')\n",
    "df_employement[\"Quarter\"] = df_employement[\"Quarter\"].astype('str')"
   ]
  },
  {
   "cell_type": "code",
   "execution_count": 419,
   "metadata": {},
   "outputs": [
    {
     "data": {
      "text/html": [
       "<div>\n",
       "<style scoped>\n",
       "    .dataframe tbody tr th:only-of-type {\n",
       "        vertical-align: middle;\n",
       "    }\n",
       "\n",
       "    .dataframe tbody tr th {\n",
       "        vertical-align: top;\n",
       "    }\n",
       "\n",
       "    .dataframe thead th {\n",
       "        text-align: right;\n",
       "    }\n",
       "</style>\n",
       "<table border=\"1\" class=\"dataframe\">\n",
       "  <thead>\n",
       "    <tr style=\"text-align: right;\">\n",
       "      <th></th>\n",
       "      <th>Invoice/Item Number</th>\n",
       "      <th>Date</th>\n",
       "      <th>Store Number</th>\n",
       "      <th>Store Name</th>\n",
       "      <th>Address</th>\n",
       "      <th>City</th>\n",
       "      <th>Zip Code</th>\n",
       "      <th>Store Location</th>\n",
       "      <th>County Number</th>\n",
       "      <th>County</th>\n",
       "      <th>Category</th>\n",
       "      <th>Category Name</th>\n",
       "      <th>Vendor Number</th>\n",
       "      <th>Vendor Name</th>\n",
       "      <th>Item Number</th>\n",
       "      <th>Item Description</th>\n",
       "      <th>Pack</th>\n",
       "      <th>Bottle Volume (ml)</th>\n",
       "      <th>State Bottle Cost</th>\n",
       "      <th>State Bottle Retail</th>\n",
       "      <th>Bottles Sold</th>\n",
       "      <th>Sale (Dollars)</th>\n",
       "      <th>Volume Sold (Liters)</th>\n",
       "      <th>Volume Sold (Gallons)</th>\n",
       "      <th>Year</th>\n",
       "      <th>Quarter</th>\n",
       "      <th>Price Diff</th>\n",
       "    </tr>\n",
       "  </thead>\n",
       "  <tbody>\n",
       "    <tr>\n",
       "      <th>0</th>\n",
       "      <td>S08096000008</td>\n",
       "      <td>10/04/2012</td>\n",
       "      <td>4641</td>\n",
       "      <td>Kum &amp; Go #573 / SE 14th DM</td>\n",
       "      <td>5830 SE 14th ST</td>\n",
       "      <td>DES MOINES</td>\n",
       "      <td>50315</td>\n",
       "      <td>NaN</td>\n",
       "      <td>77.0</td>\n",
       "      <td>polk</td>\n",
       "      <td>1022100.0</td>\n",
       "      <td>TEQUILA</td>\n",
       "      <td>395.0</td>\n",
       "      <td>Proximo</td>\n",
       "      <td>89191</td>\n",
       "      <td>Jose Cuervo Especial Reposado Tequila Mini</td>\n",
       "      <td>12</td>\n",
       "      <td>500</td>\n",
       "      <td>11.50</td>\n",
       "      <td>17.25</td>\n",
       "      <td>1</td>\n",
       "      <td>17.25</td>\n",
       "      <td>0.50</td>\n",
       "      <td>0.13</td>\n",
       "      <td>2012</td>\n",
       "      <td>4</td>\n",
       "      <td>-5.75</td>\n",
       "    </tr>\n",
       "    <tr>\n",
       "      <th>1</th>\n",
       "      <td>S23102300041</td>\n",
       "      <td>12/20/2014</td>\n",
       "      <td>4346</td>\n",
       "      <td>Roy's Foodland</td>\n",
       "      <td>105 PEARL ST</td>\n",
       "      <td>SHELLSBURG</td>\n",
       "      <td>52332</td>\n",
       "      <td>POINT (-91.869285 42.094155)</td>\n",
       "      <td>6.0</td>\n",
       "      <td>benton</td>\n",
       "      <td>1012100.0</td>\n",
       "      <td>CANADIAN WHISKIES</td>\n",
       "      <td>115.0</td>\n",
       "      <td>Constellation Wine Company, Inc.</td>\n",
       "      <td>11774</td>\n",
       "      <td>Black Velvet</td>\n",
       "      <td>24</td>\n",
       "      <td>375</td>\n",
       "      <td>3.07</td>\n",
       "      <td>4.61</td>\n",
       "      <td>6</td>\n",
       "      <td>27.66</td>\n",
       "      <td>2.25</td>\n",
       "      <td>0.59</td>\n",
       "      <td>2014</td>\n",
       "      <td>4</td>\n",
       "      <td>-1.54</td>\n",
       "    </tr>\n",
       "    <tr>\n",
       "      <th>2</th>\n",
       "      <td>S14410500035</td>\n",
       "      <td>09/09/2013</td>\n",
       "      <td>3628</td>\n",
       "      <td>Wal-Mart 1528 / Cedar Rapids</td>\n",
       "      <td>2645 BLAIRS FERRY RD NE</td>\n",
       "      <td>CEDAR RAPIDS</td>\n",
       "      <td>52402</td>\n",
       "      <td>POINT (-91.680734 42.034748)</td>\n",
       "      <td>57.0</td>\n",
       "      <td>linn</td>\n",
       "      <td>1062300.0</td>\n",
       "      <td>FLAVORED RUM</td>\n",
       "      <td>260.0</td>\n",
       "      <td>Diageo Americas</td>\n",
       "      <td>43410</td>\n",
       "      <td>Captain Morgan Parrot Bay Coconut</td>\n",
       "      <td>12</td>\n",
       "      <td>750</td>\n",
       "      <td>7.49</td>\n",
       "      <td>11.23</td>\n",
       "      <td>12</td>\n",
       "      <td>134.76</td>\n",
       "      <td>9.00</td>\n",
       "      <td>2.38</td>\n",
       "      <td>2013</td>\n",
       "      <td>3</td>\n",
       "      <td>-3.74</td>\n",
       "    </tr>\n",
       "    <tr>\n",
       "      <th>3</th>\n",
       "      <td>S09427600021</td>\n",
       "      <td>12/12/2012</td>\n",
       "      <td>4708</td>\n",
       "      <td>No Frills Supermarkets #803 / Glenwo</td>\n",
       "      <td>423 SHARP ST</td>\n",
       "      <td>GLENWOOD</td>\n",
       "      <td>51534</td>\n",
       "      <td>POINT (-95.742987 41.04635)</td>\n",
       "      <td>65.0</td>\n",
       "      <td>mills</td>\n",
       "      <td>1011100.0</td>\n",
       "      <td>BLENDED WHISKIES</td>\n",
       "      <td>65.0</td>\n",
       "      <td>Jim Beam Brands</td>\n",
       "      <td>24458</td>\n",
       "      <td>Kessler Blend Whiskey</td>\n",
       "      <td>6</td>\n",
       "      <td>1750</td>\n",
       "      <td>11.01</td>\n",
       "      <td>16.52</td>\n",
       "      <td>30</td>\n",
       "      <td>495.60</td>\n",
       "      <td>52.50</td>\n",
       "      <td>13.87</td>\n",
       "      <td>2012</td>\n",
       "      <td>4</td>\n",
       "      <td>-5.51</td>\n",
       "    </tr>\n",
       "    <tr>\n",
       "      <th>4</th>\n",
       "      <td>S28446900114</td>\n",
       "      <td>10/14/2015</td>\n",
       "      <td>2594</td>\n",
       "      <td>Hy-Vee Food Store / Sioux City</td>\n",
       "      <td>4500 SERGEANT ROAD</td>\n",
       "      <td>SIOUX CITY</td>\n",
       "      <td>51106</td>\n",
       "      <td>POINT (-96.346969 42.447396)</td>\n",
       "      <td>97.0</td>\n",
       "      <td>woodbury</td>\n",
       "      <td>1012100.0</td>\n",
       "      <td>CANADIAN WHISKIES</td>\n",
       "      <td>115.0</td>\n",
       "      <td>Constellation Wine Company, Inc.</td>\n",
       "      <td>10550</td>\n",
       "      <td>Black Velvet Toasted Caramel</td>\n",
       "      <td>12</td>\n",
       "      <td>750</td>\n",
       "      <td>6.75</td>\n",
       "      <td>10.13</td>\n",
       "      <td>12</td>\n",
       "      <td>121.56</td>\n",
       "      <td>9.00</td>\n",
       "      <td>2.38</td>\n",
       "      <td>2015</td>\n",
       "      <td>4</td>\n",
       "      <td>-3.38</td>\n",
       "    </tr>\n",
       "  </tbody>\n",
       "</table>\n",
       "</div>"
      ],
      "text/plain": [
       "  Invoice/Item Number        Date  Store Number                            Store Name                  Address          City Zip Code                Store Location  County Number    County   Category      Category Name  Vendor Number                       Vendor Name Item Number                            Item Description Pack  Bottle Volume (ml)  State Bottle Cost  State Bottle Retail  Bottles Sold  Sale (Dollars)  Volume Sold (Liters)  Volume Sold (Gallons)  Year Quarter  Price Diff\n",
       "0  S08096000008        10/04/2012  4641          Kum & Go #573 / SE 14th DM            5830 SE 14th ST          DES MOINES    50315    NaN                           77.0           polk      1022100.0  TEQUILA            395.0          Proximo                           89191       Jose Cuervo Especial Reposado Tequila Mini  12   500                 11.50              17.25                1             17.25           0.50                  0.13                   2012  4      -5.75      \n",
       "1  S23102300041        12/20/2014  4346          Roy's Foodland                        105 PEARL ST             SHELLSBURG    52332    POINT (-91.869285 42.094155)  6.0            benton    1012100.0  CANADIAN WHISKIES  115.0          Constellation Wine Company, Inc.  11774       Black Velvet                                24   375                 3.07               4.61                 6             27.66           2.25                  0.59                   2014  4      -1.54      \n",
       "2  S14410500035        09/09/2013  3628          Wal-Mart 1528 / Cedar Rapids          2645 BLAIRS FERRY RD NE  CEDAR RAPIDS  52402    POINT (-91.680734 42.034748)  57.0           linn      1062300.0  FLAVORED RUM       260.0          Diageo Americas                   43410       Captain Morgan Parrot Bay Coconut           12   750                 7.49               11.23                12            134.76          9.00                  2.38                   2013  3      -3.74      \n",
       "3  S09427600021        12/12/2012  4708          No Frills Supermarkets #803 / Glenwo  423 SHARP ST             GLENWOOD      51534    POINT (-95.742987 41.04635)   65.0           mills     1011100.0  BLENDED WHISKIES   65.0           Jim Beam Brands                   24458       Kessler Blend Whiskey                       6    1750                11.01              16.52                30            495.60          52.50                 13.87                  2012  4      -5.51      \n",
       "4  S28446900114        10/14/2015  2594          Hy-Vee Food Store / Sioux City        4500 SERGEANT ROAD       SIOUX CITY    51106    POINT (-96.346969 42.447396)  97.0           woodbury  1012100.0  CANADIAN WHISKIES  115.0          Constellation Wine Company, Inc.  10550       Black Velvet Toasted Caramel                12   750                 6.75               10.13                12            121.56          9.00                  2.38                   2015  4      -3.38      "
      ]
     },
     "execution_count": 419,
     "metadata": {},
     "output_type": "execute_result"
    }
   ],
   "source": [
    "df.head()"
   ]
  },
  {
   "cell_type": "code",
   "execution_count": 420,
   "metadata": {},
   "outputs": [],
   "source": [
    "df[\"County\"] = df[\"County\"].str.lower()"
   ]
  },
  {
   "cell_type": "code",
   "execution_count": 421,
   "metadata": {},
   "outputs": [],
   "source": [
    "df[\"Year\"] = pd.DatetimeIndex(df['Date']).year\n",
    "df[\"Quarter\"] = pd.DatetimeIndex(df['Date']).quarter"
   ]
  },
  {
   "cell_type": "code",
   "execution_count": 422,
   "metadata": {},
   "outputs": [],
   "source": [
    "df[\"Year\"] = df[\"Year\"].astype('str')\n",
    "df[\"Quarter\"] = df[\"Quarter\"].astype('str')\n",
    "df[\"Pack\"] = df[\"Pack\"].astype('str')"
   ]
  },
  {
   "cell_type": "code",
   "execution_count": 423,
   "metadata": {},
   "outputs": [],
   "source": [
    "GROUP_VARIABLES = ['County','Year','Quarter']\n",
    "NUMERIC_VARIABLES = ['Bottle Volume (ml)','State Bottle Cost', 'State Bottle Retail',\n",
    "                     'Bottles Sold','Sale (Dollars)', 'Volume Sold (Liters)', 'Volume Sold (Gallons)', 'Price Diff']\n",
    "\n",
    "df_agg =  pd.pivot_table(df, \n",
    "                        index = GROUP_VARIABLES,\n",
    "                        values = NUMERIC_VARIABLES,\n",
    "                        aggfunc = np.sum).reset_index().merge(df_employement, 'inner', left_on = ['Year','County', 'Quarter'], right_on = ['Year','Area Name', 'Quarter']).dropna()"
   ]
  },
  {
   "cell_type": "code",
   "execution_count": 424,
   "metadata": {},
   "outputs": [],
   "source": [
    "df_pop[\"Year\"] = df_pop[\"Year\"].str[-4:]"
   ]
  },
  {
   "cell_type": "code",
   "execution_count": 425,
   "metadata": {},
   "outputs": [],
   "source": [
    "df_pop[\"County\"] = df_pop[\"County\"].str.replace(\" County\",\"\").str.lower()"
   ]
  },
  {
   "cell_type": "code",
   "execution_count": 426,
   "metadata": {},
   "outputs": [],
   "source": [
    "df_agg = df_agg.merge(df_pop[[\"Year\",\"County\",\"Population\"]],\n",
    "             'inner',\n",
    "             left_on = ['Year', 'County'],\n",
    "             right_on = ['Year', 'County'])"
   ]
  },
  {
   "cell_type": "markdown",
   "metadata": {},
   "source": [
    "## Column Manipulation"
   ]
  },
  {
   "cell_type": "code",
   "execution_count": 427,
   "metadata": {},
   "outputs": [],
   "source": [
    "NUMERIC_RESPONSE = ['Sale (Dollars)', 'Volume Sold (Gallons)', 'Volume Sold (Liters)']\n",
    "\n",
    "for column in NUMERIC_RESPONSE:\n",
    "    df_agg[column + \" Per Capita\"] = df_agg[column] / df_agg[\"Population\"]\n",
    "    df_agg[column + \" Per Capita - Log\"] = np.log(df_agg[column + \" Per Capita\"])\n",
    "    df_agg[column + \" Per Capita - Sqrt\"] = df_agg[column + \" Per Capita\"] ** 0.5"
   ]
  },
  {
   "cell_type": "code",
   "execution_count": 428,
   "metadata": {},
   "outputs": [],
   "source": [
    "NUMERIC_COLUMNS = ['Bottle Volume (ml)', 'Bottles Sold', 'Average Emp', 'Wages',\n",
    "                   'Average Wage', 'Population', 'Price Diff']\n",
    "\n",
    "for column in NUMERIC_COLUMNS:\n",
    "    df_agg[column + \" Per Capita\"] = df_agg[column] / df_agg[\"Population\"]\n",
    "    \n",
    "CATEGORICAL_COLUMNS = ['Year', 'Quarter']"
   ]
  },
  {
   "cell_type": "code",
   "execution_count": 429,
   "metadata": {},
   "outputs": [],
   "source": [
    "df_results = pd.DataFrame({\"Independent Variables\":[],\n",
    "                           \"Dependent Variable\":[],\n",
    "                           \"RMSE\":[],\n",
    "                           \"R2\":[],\n",
    "                           \"Adj R2\":[]\n",
    "                          })"
   ]
  },
  {
   "cell_type": "code",
   "execution_count": 435,
   "metadata": {},
   "outputs": [],
   "source": [
    "DEPENDENT_VARIABLES = ['Year','Quarter','Bottle Volume (ml)','State Bottle Cost'\n",
    "                     ,'Wages Per Capita', 'Average Emp Per Capita', 'Price Diff']"
   ]
  },
  {
   "cell_type": "markdown",
   "metadata": {},
   "source": [
    "## Best Subsets Regression"
   ]
  },
  {
   "cell_type": "code",
   "execution_count": 436,
   "metadata": {},
   "outputs": [],
   "source": [
    "from itertools import chain, combinations\n",
    "\n",
    "def powerset(iterable):\n",
    "    s = list(iterable)\n",
    "    return chain.from_iterable(combinations(s, r) for r in range(len(s)+1))"
   ]
  },
  {
   "cell_type": "code",
   "execution_count": 437,
   "metadata": {},
   "outputs": [],
   "source": [
    "DEPENDENT_VARIABLES = list(powerset(DEPENDENT_VARIABLES))\n",
    "DEPENDENT_VARIABLES = [list(iterable) for iterable in DEPENDENT_VARIABLES if iterable != ()]"
   ]
  },
  {
   "cell_type": "code",
   "execution_count": 438,
   "metadata": {},
   "outputs": [],
   "source": [
    "NUMERIC_RESPONSE = ['Sale (Dollars)', 'Volume Sold (Gallons)', 'Volume Sold (Liters)']\n",
    "df_results = pd.DataFrame({\"Independent Variables\":[],\n",
    "                           \"Dependent Variable\":[],\n",
    "                           \"RMSE\":[],\n",
    "                           \"R2\":[],\n",
    "                           \"Adj R2\":[]\n",
    "                          })\n",
    "for DEP_VAR in NUMERIC_RESPONSE:\n",
    "    DEP_VAR_ = DEP_VAR\n",
    "    for IND_VARS in DEPENDENT_VARIABLES:\n",
    "        DEP_VAR = DEP_VAR_ + \" Per Capita\"\n",
    "        X_train, X_test, y_train, y_test = train_test_split(.5, df_agg, DEP_VAR)\n",
    "        b = linear_regression(X_train[IND_VARS], y_train)\n",
    "        new_row = {\"Independent Variables\": IND_VARS,\n",
    "                   \"Dependent Variable\" : DEP_VAR,\n",
    "                   \"RMSE\": rmse(b, X_test[IND_VARS], y_test),\n",
    "                   \"R2\" : r2(b, X_test[IND_VARS], y_test),\n",
    "                   \"Adj R2\" : adj_r2(b, X_test[IND_VARS], y_test),\n",
    "                   \"Cross Validation RMSE\" : cross_validation(df_agg[IND_VARS], df_agg[DEP_VAR], 5)\n",
    "                  }\n",
    "        df_results = df_results.append(new_row, ignore_index = True)\n",
    "        \n",
    "        DEP_VAR = DEP_VAR_ + \" Per Capita - Sqrt\"\n",
    "        X_train,X_test, y_train, y_test = train_test_split(.5, df_agg, DEP_VAR)\n",
    "        b = linear_regression(X_train[IND_VARS], y_train)\n",
    "        new_row = {\"Independent Variables\": IND_VARS,\n",
    "           \"Dependent Variable\" : DEP_VAR,\n",
    "           \"RMSE\": rmse(b, X_test[IND_VARS], y_test),\n",
    "           \"R2\" : r2(b, X_test[IND_VARS], y_test),\n",
    "           \"Adj R2\" : adj_r2(b, X_test[IND_VARS], y_test),\n",
    "           \"Cross Validation RMSE\" : cross_validation(df_agg[IND_VARS], df_agg[DEP_VAR], 5)\n",
    "          }\n",
    "        df_results = df_results.append(new_row, ignore_index = True)\n",
    "        \n",
    "        DEP_VAR = DEP_VAR_ + \" Per Capita - Log\"\n",
    "        X_train,X_test, y_train, y_test = train_test_split(.5, df_agg, DEP_VAR)\n",
    "        b = linear_regression(X_train[IND_VARS], y_train)\n",
    "        new_row = {\"Independent Variables\": IND_VARS,\n",
    "           \"Dependent Variable\" : DEP_VAR,\n",
    "           \"RMSE\": rmse(b, X_test[IND_VARS], y_test),\n",
    "           \"R2\" : r2(b, X_test[IND_VARS], y_test),\n",
    "           \"Adj R2\" : adj_r2(b, X_test[IND_VARS], y_test),\n",
    "           \"Cross Validation RMSE\" : cross_validation(df_agg[IND_VARS], df_agg[DEP_VAR], 5)\n",
    "          }\n",
    "        \n",
    "        df_results = df_results.append(new_row, ignore_index = True)"
   ]
  },
  {
   "cell_type": "code",
   "execution_count": 481,
   "metadata": {},
   "outputs": [
    {
     "name": "stderr",
     "output_type": "stream",
     "text": [
      "/Users/anishyakkala/Library/Python/3.6/lib/python/site-packages/ipykernel_launcher.py:1: FutureWarning: Passing a negative integer is deprecated in version 1.0 and will not be supported in future version. Instead, use None to not limit the column width.\n",
      "  \"\"\"Entry point for launching an IPython kernel.\n"
     ]
    },
    {
     "data": {
      "text/html": [
       "<div>\n",
       "<style scoped>\n",
       "    .dataframe tbody tr th:only-of-type {\n",
       "        vertical-align: middle;\n",
       "    }\n",
       "\n",
       "    .dataframe tbody tr th {\n",
       "        vertical-align: top;\n",
       "    }\n",
       "\n",
       "    .dataframe thead th {\n",
       "        text-align: right;\n",
       "    }\n",
       "</style>\n",
       "<table border=\"1\" class=\"dataframe\">\n",
       "  <thead>\n",
       "    <tr style=\"text-align: right;\">\n",
       "      <th></th>\n",
       "      <th>Independent Variables</th>\n",
       "      <th>Dependent Variable</th>\n",
       "      <th>Adj R2</th>\n",
       "      <th>Cross Validation RMSE</th>\n",
       "    </tr>\n",
       "  </thead>\n",
       "  <tbody>\n",
       "    <tr>\n",
       "      <th>358</th>\n",
       "      <td>[Year, Quarter, Bottle Volume (ml), State Bottle Cost, Wages Per Capita, Average Emp Per Capita]</td>\n",
       "      <td>Sale (Dollars) Per Capita - Sqrt</td>\n",
       "      <td>0.627835</td>\n",
       "      <td>0.664643</td>\n",
       "    </tr>\n",
       "    <tr>\n",
       "      <th>304</th>\n",
       "      <td>[Year, Quarter, Bottle Volume (ml), Wages Per Capita, Average Emp Per Capita]</td>\n",
       "      <td>Sale (Dollars) Per Capita - Sqrt</td>\n",
       "      <td>0.616241</td>\n",
       "      <td>0.664735</td>\n",
       "    </tr>\n",
       "    <tr>\n",
       "      <th>370</th>\n",
       "      <td>[Year, Quarter, State Bottle Cost, Wages Per Capita, Average Emp Per Capita, Price Diff]</td>\n",
       "      <td>Sale (Dollars) Per Capita - Sqrt</td>\n",
       "      <td>0.624015</td>\n",
       "      <td>0.664876</td>\n",
       "    </tr>\n",
       "    <tr>\n",
       "      <th>313</th>\n",
       "      <td>[Year, Quarter, State Bottle Cost, Wages Per Capita, Average Emp Per Capita]</td>\n",
       "      <td>Sale (Dollars) Per Capita - Sqrt</td>\n",
       "      <td>0.627018</td>\n",
       "      <td>0.665207</td>\n",
       "    </tr>\n",
       "    <tr>\n",
       "      <th>367</th>\n",
       "      <td>[Year, Quarter, Bottle Volume (ml), Wages Per Capita, Average Emp Per Capita, Price Diff]</td>\n",
       "      <td>Sale (Dollars) Per Capita - Sqrt</td>\n",
       "      <td>0.612910</td>\n",
       "      <td>0.666129</td>\n",
       "    </tr>\n",
       "    <tr>\n",
       "      <th>379</th>\n",
       "      <td>[Year, Quarter, Bottle Volume (ml), State Bottle Cost, Wages Per Capita, Average Emp Per Capita, Price Diff]</td>\n",
       "      <td>Sale (Dollars) Per Capita - Sqrt</td>\n",
       "      <td>0.599204</td>\n",
       "      <td>0.666150</td>\n",
       "    </tr>\n",
       "    <tr>\n",
       "      <th>322</th>\n",
       "      <td>[Year, Quarter, Wages Per Capita, Average Emp Per Capita, Price Diff]</td>\n",
       "      <td>Sale (Dollars) Per Capita - Sqrt</td>\n",
       "      <td>0.590325</td>\n",
       "      <td>0.666543</td>\n",
       "    </tr>\n",
       "    <tr>\n",
       "      <th>376</th>\n",
       "      <td>[Quarter, Bottle Volume (ml), State Bottle Cost, Wages Per Capita, Average Emp Per Capita, Price Diff]</td>\n",
       "      <td>Sale (Dollars) Per Capita - Sqrt</td>\n",
       "      <td>0.593262</td>\n",
       "      <td>0.688647</td>\n",
       "    </tr>\n",
       "    <tr>\n",
       "      <th>364</th>\n",
       "      <td>[Year, Quarter, Bottle Volume (ml), State Bottle Cost, Average Emp Per Capita, Price Diff]</td>\n",
       "      <td>Sale (Dollars) Per Capita - Sqrt</td>\n",
       "      <td>0.610551</td>\n",
       "      <td>0.689107</td>\n",
       "    </tr>\n",
       "    <tr>\n",
       "      <th>298</th>\n",
       "      <td>[Year, Quarter, Bottle Volume (ml), State Bottle Cost, Average Emp Per Capita]</td>\n",
       "      <td>Sale (Dollars) Per Capita - Sqrt</td>\n",
       "      <td>0.599429</td>\n",
       "      <td>0.689968</td>\n",
       "    </tr>\n",
       "  </tbody>\n",
       "</table>\n",
       "</div>"
      ],
      "text/plain": [
       "                                                                                            Independent Variables                Dependent Variable    Adj R2  Cross Validation RMSE\n",
       "358  [Year, Quarter, Bottle Volume (ml), State Bottle Cost, Wages Per Capita, Average Emp Per Capita]              Sale (Dollars) Per Capita - Sqrt  0.627835  0.664643             \n",
       "304  [Year, Quarter, Bottle Volume (ml), Wages Per Capita, Average Emp Per Capita]                                 Sale (Dollars) Per Capita - Sqrt  0.616241  0.664735             \n",
       "370  [Year, Quarter, State Bottle Cost, Wages Per Capita, Average Emp Per Capita, Price Diff]                      Sale (Dollars) Per Capita - Sqrt  0.624015  0.664876             \n",
       "313  [Year, Quarter, State Bottle Cost, Wages Per Capita, Average Emp Per Capita]                                  Sale (Dollars) Per Capita - Sqrt  0.627018  0.665207             \n",
       "367  [Year, Quarter, Bottle Volume (ml), Wages Per Capita, Average Emp Per Capita, Price Diff]                     Sale (Dollars) Per Capita - Sqrt  0.612910  0.666129             \n",
       "379  [Year, Quarter, Bottle Volume (ml), State Bottle Cost, Wages Per Capita, Average Emp Per Capita, Price Diff]  Sale (Dollars) Per Capita - Sqrt  0.599204  0.666150             \n",
       "322  [Year, Quarter, Wages Per Capita, Average Emp Per Capita, Price Diff]                                         Sale (Dollars) Per Capita - Sqrt  0.590325  0.666543             \n",
       "376  [Quarter, Bottle Volume (ml), State Bottle Cost, Wages Per Capita, Average Emp Per Capita, Price Diff]        Sale (Dollars) Per Capita - Sqrt  0.593262  0.688647             \n",
       "364  [Year, Quarter, Bottle Volume (ml), State Bottle Cost, Average Emp Per Capita, Price Diff]                    Sale (Dollars) Per Capita - Sqrt  0.610551  0.689107             \n",
       "298  [Year, Quarter, Bottle Volume (ml), State Bottle Cost, Average Emp Per Capita]                                Sale (Dollars) Per Capita - Sqrt  0.599429  0.689968             "
      ]
     },
     "execution_count": 481,
     "metadata": {},
     "output_type": "execute_result"
    }
   ],
   "source": [
    "pd.set_option('display.max_colwidth', -1)\n",
    "df_results[df_results[\"Dependent Variable\"] == \"Sale (Dollars) Per Capita - Sqrt\"].sort_values('Cross Validation RMSE', ascending = True).head(10)[[\"Independent Variables\",\"Dependent Variable\", \"Adj R2\", \"Cross Validation RMSE\"]]"
   ]
  },
  {
   "cell_type": "code",
   "execution_count": 387,
   "metadata": {},
   "outputs": [],
   "source": [
    "pd.set_option('expand_frame_repr', False)"
   ]
  },
  {
   "cell_type": "code",
   "execution_count": 382,
   "metadata": {},
   "outputs": [],
   "source": [
    "df_results.to_csv(\"model_results.csv\", index = False)"
   ]
  },
  {
   "cell_type": "markdown",
   "metadata": {},
   "source": [
    "## Exploring Models"
   ]
  },
  {
   "cell_type": "code",
   "execution_count": 472,
   "metadata": {},
   "outputs": [],
   "source": [
    "IND_VARS = ['Year', 'Quarter', 'Bottle Volume (ml)','State Bottle Cost', 'Wages Per Capita', 'Average Emp Per Capita']\n",
    "DEP_VAR = 'Sale (Dollars) Per Capita - Sqrt' \n",
    "X_train, X_test, y_train, y_test = train_test_split(.5, df_agg, DEP_VAR)\n",
    "b = linear_regression(X_train[IND_VARS], y_train)"
   ]
  },
  {
   "cell_type": "code",
   "execution_count": 473,
   "metadata": {},
   "outputs": [
    {
     "name": "stdout",
     "output_type": "stream",
     "text": [
      "Independent Variables:  ['Year', 'Quarter', 'Bottle Volume (ml)', 'State Bottle Cost', 'Wages Per Capita', 'Average Emp Per Capita']\n",
      "Dependent Variable:  Sale (Dollars) Per Capita - Sqrt\n",
      "RMSE :  0.6807443801147242\n",
      "R2 :  0.6164686303420687\n",
      "Adj R2 :  0.6125000869753199\n",
      "AIC : 0.4039992059152413\n",
      "BIC : 0.457431568031144\n",
      "Cross Validation RMSE : 0.6645615945487349\n"
     ]
    },
    {
     "data": {
      "image/png": "[encoded data removed]",
      "text/plain": [
       "<Figure size 432x288 with 1 Axes>"
      ]
     },
     "metadata": {
      "needs_background": "light"
     },
     "output_type": "display_data"
    },
    {
     "data": {
      "image/png": "[encoded data removed]",
      "text/plain": [
       "<Figure size 432x288 with 1 Axes>"
      ]
     },
     "metadata": {
      "needs_background": "light"
     },
     "output_type": "display_data"
    },
    {
     "data": {
      "text/plain": [
       "(None, None)"
      ]
     },
     "execution_count": 473,
     "metadata": {},
     "output_type": "execute_result"
    }
   ],
   "source": [
    "print(\"Independent Variables: \", IND_VARS)\n",
    "print(\"Dependent Variable: \", DEP_VAR)\n",
    "print(\"RMSE : \", rmse(b, X_test[IND_VARS], y_test))\n",
    "print(\"R2 : \", r2(b, X_test[IND_VARS], y_test))\n",
    "print(\"Adj R2 : \", adj_r2(b, X_test[IND_VARS], y_test))\n",
    "print(\"AIC :\", aic(b, X_test[IND_VARS], y_test))\n",
    "print(\"BIC :\", bic(b, X_test[IND_VARS], y_test))\n",
    "print(\"Cross Validation RMSE :\", cross_validation(df_agg[IND_VARS], df_agg[DEP_VAR], 5))\n",
    "\n",
    "resid_vs_fit(b, X_train[IND_VARS], y_train), qqplot(b, X_train[IND_VARS], y_train)"
   ]
  }
 ],
 "metadata": {
  "kernelspec": {
   "display_name": "Python 3",
   "language": "python",
   "name": "python3"
  },
  "language_info": {
   "codemirror_mode": {
    "name": "ipython",
    "version": 3
   },
   "file_extension": ".py",
   "mimetype": "text/x-python",
   "name": "python",
   "nbconvert_exporter": "python",
   "pygments_lexer": "ipython3",
   "version": "3.6.6rc1"
  }
 },
 "nbformat": 4,
 "nbformat_minor": 4
}
