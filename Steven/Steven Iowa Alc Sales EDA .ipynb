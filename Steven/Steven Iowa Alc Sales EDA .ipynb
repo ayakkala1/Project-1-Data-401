{
 "cells": [
  {
   "cell_type": "code",
   "execution_count": 1,
   "metadata": {},
   "outputs": [],
   "source": [
    "import numpy as np\n",
    "import pandas as pd\n",
    "import re\n",
    "import scipy.stats as stats\n",
    "import pylab\n",
    "import gc"
   ]
  },
  {
   "cell_type": "code",
   "execution_count": 62,
   "metadata": {},
   "outputs": [],
   "source": [
    "def linear_regression(X, y):\n",
    "    X = pd.get_dummies(X, drop_first = True)._get_numeric_data().values\n",
    "    y = y.values\n",
    "    \n",
    "    intercept_col = np.ones(X.shape[0]).reshape(X.shape[0],1)\n",
    "    X = np.hstack((intercept_col, X))\n",
    "    b = np.linalg.inv(X.T@X)@X.T@y\n",
    "    return b\n",
    "\n",
    "def rmse(slopes, X_test, y_test):\n",
    "    X_test = pd.get_dummies(X_test, drop_first = True)._get_numeric_data().values\n",
    "    intercept_col = np.ones(X_test.shape[0]).reshape(X_test.shape[0],1)\n",
    "    X_test = np.hstack((intercept_col, X_test))\n",
    "    \n",
    "    y_val_pred = X_test @ b\n",
    "    y_val = y_test.values\n",
    "    return np.sqrt(((y_val - y_val_pred) ** 2).mean())\n",
    "    \n",
    "def train_test_split(frac, X, response = 'Volume Sold (Gallons)'):\n",
    "    X_train = X.sample(frac = frac)\n",
    "    X_test = X.drop(X_train.index, axis = 0)\n",
    "    \n",
    "    y_train = X_train[response]\n",
    "    X_train = X_train.drop(['County','Area Name',response], axis = 1)\n",
    "    \n",
    "    y_test = X_test[response]\n",
    "    X_test = X_test.drop(['County','Area Name',response], axis = 1)\n",
    "    \n",
    "    \n",
    "    return X_train,X_test, y_train, y_test\n",
    "\n",
    "def r2(b, X, y):\n",
    "    X = pd.get_dummies(X, drop_first = True)._get_numeric_data().values\n",
    "    y = y.values\n",
    "    intercept_col = np.ones(X.shape[0]).reshape(X.shape[0],1)\n",
    "    X = np.hstack((intercept_col, X))\n",
    "    \n",
    "    ss_tot = ((y - y.mean()) ** 2).sum()\n",
    "    \n",
    "    y_val_pred = X @ b\n",
    "    ss_res = ((y - y_val_pred) ** 2).sum()\n",
    "    return 1 - (ss_res/ss_tot)\n",
    "\n",
    "def qqplot(b, X, y):\n",
    "    X = pd.get_dummies(X, drop_first = True)._get_numeric_data().values\n",
    "    y = y.values\n",
    "    intercept_col = np.ones(X.shape[0]).reshape(X.shape[0],1)\n",
    "    X = np.hstack((intercept_col, X))\n",
    "    \n",
    "    y_val_pred = X @ b\n",
    "\n",
    "    stats.probplot(y - y_val_pred, dist=\"norm\", plot=pylab)\n",
    "    pylab.show()\n",
    "\n",
    "def aic(b, X, y):\n",
    "    X = pd.get_dummies(X, drop_first = True)._get_numeric_data().values\n",
    "    y = y.values\n",
    "    intercept_col = np.ones(X.shape[0]).reshape(X.shape[0],1)\n",
    "    X = np.hstack((intercept_col, X))\n",
    "    y_val_pred = X @ b\n",
    "    \n",
    "    ss_tot = ((y - y.mean()) ** 2).sum()\n",
    "    ss_res = ((y - y_val_pred) ** 2).sum()\n",
    "    sigmasq = ss_tot / X.shape[0]\n",
    "    p = X.shape[1]\n",
    "    \n",
    "    return (ss_res + 2 *(p * sigmasq)) / ss_tot\n",
    "\n",
    "def bic(b, X, y):\n",
    "    X = pd.get_dummies(X, drop_first = True)._get_numeric_data().values\n",
    "    y = y.values\n",
    "    intercept_col = np.ones(X.shape[0]).reshape(X.shape[0],1)\n",
    "    X = np.hstack((intercept_col, X))\n",
    "    y_val_pred = X @ b\n",
    "    \n",
    "    ss_tot = ((y - y.mean()) ** 2).sum()\n",
    "    ss_res = ((y - y_val_pred) ** 2).sum()\n",
    "    sigmasq = ss_tot / X.shape[0]\n",
    "    p = X.shape[1]\n",
    "    n = X.shape[0]\n",
    "    \n",
    "    return (ss_res + (np.log(n) * p * sigmasq)) / ss_tot\n"
   ]
  },
  {
   "cell_type": "code",
   "execution_count": 3,
   "metadata": {},
   "outputs": [
    {
     "name": "stderr",
     "output_type": "stream",
     "text": [
      "/opt/tljh/user/lib/python3.7/site-packages/IPython/core/interactiveshell.py:3146: DtypeWarning: Columns (6,14) have mixed types.Specify dtype option on import or set low_memory=False.\n",
      "  interactivity=interactivity, compiler=compiler, result=result)\n"
     ]
    }
   ],
   "source": [
    "df = pd.read_csv(\"data/iowaliquor.csv\")\n",
    "# df_sample = pd.read_csv(\"data/iowa-sample.csv\")"
   ]
  },
  {
   "cell_type": "code",
   "execution_count": 4,
   "metadata": {},
   "outputs": [
    {
     "data": {
      "text/html": [
       "<div>\n",
       "<style scoped>\n",
       "    .dataframe tbody tr th:only-of-type {\n",
       "        vertical-align: middle;\n",
       "    }\n",
       "\n",
       "    .dataframe tbody tr th {\n",
       "        vertical-align: top;\n",
       "    }\n",
       "\n",
       "    .dataframe thead th {\n",
       "        text-align: right;\n",
       "    }\n",
       "</style>\n",
       "<table border=\"1\" class=\"dataframe\">\n",
       "  <thead>\n",
       "    <tr style=\"text-align: right;\">\n",
       "      <th></th>\n",
       "      <th>Year</th>\n",
       "      <th>Quarter</th>\n",
       "      <th>Area Type</th>\n",
       "      <th>Area Name</th>\n",
       "      <th>Industry</th>\n",
       "      <th>Description</th>\n",
       "      <th>Locations</th>\n",
       "      <th>Month 1</th>\n",
       "      <th>Month 2</th>\n",
       "      <th>Month 3</th>\n",
       "      <th>Average Emp</th>\n",
       "      <th>Wages</th>\n",
       "      <th>Average Wage</th>\n",
       "    </tr>\n",
       "  </thead>\n",
       "  <tbody>\n",
       "    <tr>\n",
       "      <th>0</th>\n",
       "      <td>2011</td>\n",
       "      <td>1</td>\n",
       "      <td>Statewide</td>\n",
       "      <td>Statewide</td>\n",
       "      <td>11.0</td>\n",
       "      <td>Agriculture, Forestry, Fishing &amp; Hunt</td>\n",
       "      <td>1921.0</td>\n",
       "      <td>14343.0</td>\n",
       "      <td>14504.0</td>\n",
       "      <td>14895.0</td>\n",
       "      <td>14581.0</td>\n",
       "      <td>1.204824e+08</td>\n",
       "      <td>8263.0</td>\n",
       "    </tr>\n",
       "    <tr>\n",
       "      <th>1</th>\n",
       "      <td>2011</td>\n",
       "      <td>1</td>\n",
       "      <td>Statewide</td>\n",
       "      <td>Statewide</td>\n",
       "      <td>21.0</td>\n",
       "      <td>Mining, Quarrying, &amp; Oil &amp; Gas Extrac</td>\n",
       "      <td>186.0</td>\n",
       "      <td>1638.0</td>\n",
       "      <td>1811.0</td>\n",
       "      <td>1818.0</td>\n",
       "      <td>1756.0</td>\n",
       "      <td>1.679560e+07</td>\n",
       "      <td>9567.0</td>\n",
       "    </tr>\n",
       "    <tr>\n",
       "      <th>2</th>\n",
       "      <td>2011</td>\n",
       "      <td>1</td>\n",
       "      <td>Statewide</td>\n",
       "      <td>Statewide</td>\n",
       "      <td>22.0</td>\n",
       "      <td>Utilities</td>\n",
       "      <td>449.0</td>\n",
       "      <td>8330.0</td>\n",
       "      <td>8288.0</td>\n",
       "      <td>8328.0</td>\n",
       "      <td>8315.0</td>\n",
       "      <td>1.593543e+08</td>\n",
       "      <td>19164.0</td>\n",
       "    </tr>\n",
       "    <tr>\n",
       "      <th>3</th>\n",
       "      <td>2011</td>\n",
       "      <td>1</td>\n",
       "      <td>Statewide</td>\n",
       "      <td>Statewide</td>\n",
       "      <td>23.0</td>\n",
       "      <td>Construction</td>\n",
       "      <td>8994.0</td>\n",
       "      <td>52324.0</td>\n",
       "      <td>51154.0</td>\n",
       "      <td>53629.0</td>\n",
       "      <td>52369.0</td>\n",
       "      <td>5.506093e+08</td>\n",
       "      <td>10514.0</td>\n",
       "    </tr>\n",
       "    <tr>\n",
       "      <th>4</th>\n",
       "      <td>2011</td>\n",
       "      <td>1</td>\n",
       "      <td>Statewide</td>\n",
       "      <td>Statewide</td>\n",
       "      <td>31.0</td>\n",
       "      <td>Manufacturing</td>\n",
       "      <td>3985.0</td>\n",
       "      <td>201803.0</td>\n",
       "      <td>202120.0</td>\n",
       "      <td>203641.0</td>\n",
       "      <td>202521.0</td>\n",
       "      <td>2.454029e+09</td>\n",
       "      <td>12117.0</td>\n",
       "    </tr>\n",
       "    <tr>\n",
       "      <th>...</th>\n",
       "      <td>...</td>\n",
       "      <td>...</td>\n",
       "      <td>...</td>\n",
       "      <td>...</td>\n",
       "      <td>...</td>\n",
       "      <td>...</td>\n",
       "      <td>...</td>\n",
       "      <td>...</td>\n",
       "      <td>...</td>\n",
       "      <td>...</td>\n",
       "      <td>...</td>\n",
       "      <td>...</td>\n",
       "      <td>...</td>\n",
       "    </tr>\n",
       "    <tr>\n",
       "      <th>230382</th>\n",
       "      <td>2015</td>\n",
       "      <td>2</td>\n",
       "      <td>County</td>\n",
       "      <td>Benton</td>\n",
       "      <td>515.0</td>\n",
       "      <td>Broadcasting (except Internet)</td>\n",
       "      <td>0.0</td>\n",
       "      <td>0.0</td>\n",
       "      <td>0.0</td>\n",
       "      <td>0.0</td>\n",
       "      <td>0.0</td>\n",
       "      <td>0.000000e+00</td>\n",
       "      <td>0.0</td>\n",
       "    </tr>\n",
       "    <tr>\n",
       "      <th>230383</th>\n",
       "      <td>2015</td>\n",
       "      <td>2</td>\n",
       "      <td>County</td>\n",
       "      <td>Benton</td>\n",
       "      <td>517.0</td>\n",
       "      <td>Telecommunications</td>\n",
       "      <td>6.0</td>\n",
       "      <td>38.0</td>\n",
       "      <td>38.0</td>\n",
       "      <td>37.0</td>\n",
       "      <td>38.0</td>\n",
       "      <td>4.717600e+05</td>\n",
       "      <td>12525.0</td>\n",
       "    </tr>\n",
       "    <tr>\n",
       "      <th>230384</th>\n",
       "      <td>2015</td>\n",
       "      <td>2</td>\n",
       "      <td>County</td>\n",
       "      <td>Benton</td>\n",
       "      <td>518.0</td>\n",
       "      <td>Data Processing, Hosting, Related</td>\n",
       "      <td>0.0</td>\n",
       "      <td>0.0</td>\n",
       "      <td>0.0</td>\n",
       "      <td>0.0</td>\n",
       "      <td>0.0</td>\n",
       "      <td>0.000000e+00</td>\n",
       "      <td>0.0</td>\n",
       "    </tr>\n",
       "    <tr>\n",
       "      <th>230385</th>\n",
       "      <td>2015</td>\n",
       "      <td>2</td>\n",
       "      <td>County</td>\n",
       "      <td>Benton</td>\n",
       "      <td>519.0</td>\n",
       "      <td>Other Information Services</td>\n",
       "      <td>1.0</td>\n",
       "      <td>0.0</td>\n",
       "      <td>0.0</td>\n",
       "      <td>0.0</td>\n",
       "      <td>0.0</td>\n",
       "      <td>0.000000e+00</td>\n",
       "      <td>0.0</td>\n",
       "    </tr>\n",
       "    <tr>\n",
       "      <th>230386</th>\n",
       "      <td>2015</td>\n",
       "      <td>2</td>\n",
       "      <td>Co</td>\n",
       "      <td>0</td>\n",
       "      <td>0.0</td>\n",
       "      <td>0</td>\n",
       "      <td>0.0</td>\n",
       "      <td>0.0</td>\n",
       "      <td>0.0</td>\n",
       "      <td>0.0</td>\n",
       "      <td>0.0</td>\n",
       "      <td>0.000000e+00</td>\n",
       "      <td>0.0</td>\n",
       "    </tr>\n",
       "  </tbody>\n",
       "</table>\n",
       "<p>230387 rows × 13 columns</p>\n",
       "</div>"
      ],
      "text/plain": [
       "        Year  Quarter  Area Type  Area Name  Industry  \\\n",
       "0       2011        1  Statewide  Statewide      11.0   \n",
       "1       2011        1  Statewide  Statewide      21.0   \n",
       "2       2011        1  Statewide  Statewide      22.0   \n",
       "3       2011        1  Statewide  Statewide      23.0   \n",
       "4       2011        1  Statewide  Statewide      31.0   \n",
       "...      ...      ...        ...        ...       ...   \n",
       "230382  2015        2     County     Benton     515.0   \n",
       "230383  2015        2     County     Benton     517.0   \n",
       "230384  2015        2     County     Benton     518.0   \n",
       "230385  2015        2     County     Benton     519.0   \n",
       "230386  2015        2         Co          0       0.0   \n",
       "\n",
       "                                  Description  Locations   Month 1   Month 2  \\\n",
       "0       Agriculture, Forestry, Fishing & Hunt     1921.0   14343.0   14504.0   \n",
       "1       Mining, Quarrying, & Oil & Gas Extrac      186.0    1638.0    1811.0   \n",
       "2                                   Utilities      449.0    8330.0    8288.0   \n",
       "3                                Construction     8994.0   52324.0   51154.0   \n",
       "4                               Manufacturing     3985.0  201803.0  202120.0   \n",
       "...                                       ...        ...       ...       ...   \n",
       "230382         Broadcasting (except Internet)        0.0       0.0       0.0   \n",
       "230383                     Telecommunications        6.0      38.0      38.0   \n",
       "230384      Data Processing, Hosting, Related        0.0       0.0       0.0   \n",
       "230385             Other Information Services        1.0       0.0       0.0   \n",
       "230386                                      0        0.0       0.0       0.0   \n",
       "\n",
       "         Month 3  Average Emp         Wages  Average Wage  \n",
       "0        14895.0      14581.0  1.204824e+08        8263.0  \n",
       "1         1818.0       1756.0  1.679560e+07        9567.0  \n",
       "2         8328.0       8315.0  1.593543e+08       19164.0  \n",
       "3        53629.0      52369.0  5.506093e+08       10514.0  \n",
       "4       203641.0     202521.0  2.454029e+09       12117.0  \n",
       "...          ...          ...           ...           ...  \n",
       "230382       0.0          0.0  0.000000e+00           0.0  \n",
       "230383      37.0         38.0  4.717600e+05       12525.0  \n",
       "230384       0.0          0.0  0.000000e+00           0.0  \n",
       "230385       0.0          0.0  0.000000e+00           0.0  \n",
       "230386       0.0          0.0  0.000000e+00           0.0  \n",
       "\n",
       "[230387 rows x 13 columns]"
      ]
     },
     "execution_count": 4,
     "metadata": {},
     "output_type": "execute_result"
    }
   ],
   "source": [
    "df_raw_employment = pd.read_csv(\"data/Iowa_Quarterly_Census_of_Employment_and_Wage_data__Statewide_and_County_.csv\")\n",
    "df_raw_employment.fillna(0)"
   ]
  },
  {
   "cell_type": "code",
   "execution_count": 5,
   "metadata": {},
   "outputs": [],
   "source": [
    "df_employement = pd.pivot_table(df_raw_employment,\n",
    "               index = [\"Year\", \"Quarter\", \"Area Name\"],\n",
    "               values = [\"Average Emp\", \"Wages\"],\n",
    "               aggfunc = np.sum\n",
    "              ).reset_index()\n",
    "\n",
    "df_employement[\"Area Name\"] = df_employement[\"Area Name\"].str.lower()"
   ]
  },
  {
   "cell_type": "code",
   "execution_count": 6,
   "metadata": {},
   "outputs": [],
   "source": [
    "df_employement[\"Year\"] = df_employement[\"Year\"].astype('str')\n",
    "df_employement[\"Quarter\"] = df_employement[\"Quarter\"].astype('str')"
   ]
  },
  {
   "cell_type": "code",
   "execution_count": 7,
   "metadata": {},
   "outputs": [
    {
     "data": {
      "text/html": [
       "<div>\n",
       "<style scoped>\n",
       "    .dataframe tbody tr th:only-of-type {\n",
       "        vertical-align: middle;\n",
       "    }\n",
       "\n",
       "    .dataframe tbody tr th {\n",
       "        vertical-align: top;\n",
       "    }\n",
       "\n",
       "    .dataframe thead th {\n",
       "        text-align: right;\n",
       "    }\n",
       "</style>\n",
       "<table border=\"1\" class=\"dataframe\">\n",
       "  <thead>\n",
       "    <tr style=\"text-align: right;\">\n",
       "      <th></th>\n",
       "      <th>Year</th>\n",
       "      <th>Quarter</th>\n",
       "      <th>Area Name</th>\n",
       "      <th>Average Emp</th>\n",
       "      <th>Wages</th>\n",
       "    </tr>\n",
       "  </thead>\n",
       "  <tbody>\n",
       "    <tr>\n",
       "      <th>0</th>\n",
       "      <td>2011</td>\n",
       "      <td>1</td>\n",
       "      <td>adair</td>\n",
       "      <td>3937.0</td>\n",
       "      <td>2.470082e+07</td>\n",
       "    </tr>\n",
       "    <tr>\n",
       "      <th>1</th>\n",
       "      <td>2011</td>\n",
       "      <td>1</td>\n",
       "      <td>adams</td>\n",
       "      <td>1447.0</td>\n",
       "      <td>1.053484e+07</td>\n",
       "    </tr>\n",
       "    <tr>\n",
       "      <th>2</th>\n",
       "      <td>2011</td>\n",
       "      <td>1</td>\n",
       "      <td>allamakee</td>\n",
       "      <td>8444.0</td>\n",
       "      <td>5.872753e+07</td>\n",
       "    </tr>\n",
       "    <tr>\n",
       "      <th>3</th>\n",
       "      <td>2011</td>\n",
       "      <td>1</td>\n",
       "      <td>appanoose</td>\n",
       "      <td>7032.0</td>\n",
       "      <td>4.989157e+07</td>\n",
       "    </tr>\n",
       "    <tr>\n",
       "      <th>4</th>\n",
       "      <td>2011</td>\n",
       "      <td>1</td>\n",
       "      <td>audubon</td>\n",
       "      <td>2397.0</td>\n",
       "      <td>1.598665e+07</td>\n",
       "    </tr>\n",
       "    <tr>\n",
       "      <th>...</th>\n",
       "      <td>...</td>\n",
       "      <td>...</td>\n",
       "      <td>...</td>\n",
       "      <td>...</td>\n",
       "      <td>...</td>\n",
       "    </tr>\n",
       "    <tr>\n",
       "      <th>1702</th>\n",
       "      <td>2015</td>\n",
       "      <td>2</td>\n",
       "      <td>allamakee</td>\n",
       "      <td>9048.0</td>\n",
       "      <td>6.917666e+07</td>\n",
       "    </tr>\n",
       "    <tr>\n",
       "      <th>1703</th>\n",
       "      <td>2015</td>\n",
       "      <td>2</td>\n",
       "      <td>appanoose</td>\n",
       "      <td>7370.0</td>\n",
       "      <td>5.880329e+07</td>\n",
       "    </tr>\n",
       "    <tr>\n",
       "      <th>1704</th>\n",
       "      <td>2015</td>\n",
       "      <td>2</td>\n",
       "      <td>audubon</td>\n",
       "      <td>2324.0</td>\n",
       "      <td>1.952107e+07</td>\n",
       "    </tr>\n",
       "    <tr>\n",
       "      <th>1705</th>\n",
       "      <td>2015</td>\n",
       "      <td>2</td>\n",
       "      <td>benton</td>\n",
       "      <td>4967.0</td>\n",
       "      <td>4.327912e+07</td>\n",
       "    </tr>\n",
       "    <tr>\n",
       "      <th>1706</th>\n",
       "      <td>2015</td>\n",
       "      <td>2</td>\n",
       "      <td>statewide</td>\n",
       "      <td>3082951.0</td>\n",
       "      <td>3.213667e+10</td>\n",
       "    </tr>\n",
       "  </tbody>\n",
       "</table>\n",
       "<p>1707 rows × 5 columns</p>\n",
       "</div>"
      ],
      "text/plain": [
       "      Year Quarter  Area Name  Average Emp         Wages\n",
       "0     2011       1      adair       3937.0  2.470082e+07\n",
       "1     2011       1      adams       1447.0  1.053484e+07\n",
       "2     2011       1  allamakee       8444.0  5.872753e+07\n",
       "3     2011       1  appanoose       7032.0  4.989157e+07\n",
       "4     2011       1    audubon       2397.0  1.598665e+07\n",
       "...    ...     ...        ...          ...           ...\n",
       "1702  2015       2  allamakee       9048.0  6.917666e+07\n",
       "1703  2015       2  appanoose       7370.0  5.880329e+07\n",
       "1704  2015       2    audubon       2324.0  1.952107e+07\n",
       "1705  2015       2     benton       4967.0  4.327912e+07\n",
       "1706  2015       2  statewide    3082951.0  3.213667e+10\n",
       "\n",
       "[1707 rows x 5 columns]"
      ]
     },
     "execution_count": 7,
     "metadata": {},
     "output_type": "execute_result"
    }
   ],
   "source": [
    "df_employement"
   ]
  },
  {
   "cell_type": "code",
   "execution_count": 8,
   "metadata": {},
   "outputs": [],
   "source": [
    "df[\"County\"] = df[\"County\"].str.lower()"
   ]
  },
  {
   "cell_type": "code",
   "execution_count": 9,
   "metadata": {},
   "outputs": [],
   "source": [
    "df[\"Year\"] = pd.DatetimeIndex(df['Date']).year\n",
    "df[\"Quarter\"] = pd.DatetimeIndex(df['Date']).quarter"
   ]
  },
  {
   "cell_type": "code",
   "execution_count": 10,
   "metadata": {},
   "outputs": [],
   "source": [
    "df[\"Year\"] = df[\"Year\"].astype('str')\n",
    "df[\"Quarter\"] = df[\"Quarter\"].astype('str')\n",
    "df[\"Pack\"] = df[\"Pack\"].astype('str')"
   ]
  },
  {
   "cell_type": "code",
   "execution_count": 11,
   "metadata": {},
   "outputs": [],
   "source": [
    "GROUP_VARIABLES = ['County','Year','Quarter']\n",
    "NUMERIC_VARIABLES = ['Bottle Volume (ml)','State Bottle Cost', 'State Bottle Retail',\n",
    "                     'Bottles Sold','Sale (Dollars)', 'Volume Sold (Liters)', 'Volume Sold (Gallons)']\n",
    "\n",
    "df_agg =  pd.pivot_table(df, \n",
    "                        index = GROUP_VARIABLES,\n",
    "                        values = NUMERIC_VARIABLES,\n",
    "                        aggfunc = np.sum).reset_index().merge(df_employement, 'inner', left_on = ['Year','County', 'Quarter'], right_on = ['Year','Area Name', 'Quarter']).dropna()"
   ]
  },
  {
   "cell_type": "code",
   "execution_count": 12,
   "metadata": {},
   "outputs": [],
   "source": [
    "#---------------------------------\n",
    "# SALE (DOLLARS) AS RESPONSE VARIABLE\n",
    "#---------------------------------"
   ]
  },
  {
   "cell_type": "code",
   "execution_count": 70,
   "metadata": {},
   "outputs": [],
   "source": [
    "X_train,X_test, y_train, y_test = train_test_split(.5, df_agg,'Sale (Dollars)')"
   ]
  },
  {
   "cell_type": "code",
   "execution_count": 71,
   "metadata": {},
   "outputs": [
    {
     "data": {
      "text/plain": [
       "(0.9747809890552095, 262021.0856641039)"
      ]
     },
     "execution_count": 71,
     "metadata": {},
     "output_type": "execute_result"
    }
   ],
   "source": [
    "DEP_VARS = [\"Year\",\"Quarter\",\"Average Emp\", \"Wages\"]\n",
    "b = linear_regression(X_train[DEP_VARS], y_train)\n",
    "r2(b, X_train[DEP_VARS], y_train),rmse(b, X_test[DEP_VARS], y_test)"
   ]
  },
  {
   "cell_type": "code",
   "execution_count": 72,
   "metadata": {},
   "outputs": [
    {
     "data": {
      "text/plain": [
       "(0.0499642241097899, 0.11217615092664941)"
      ]
     },
     "execution_count": 72,
     "metadata": {},
     "output_type": "execute_result"
    }
   ],
   "source": [
    "aic(b,X_test[DEP_VARS],y_test),bic(b,X_test[DEP_VARS],y_test)"
   ]
  },
  {
   "cell_type": "code",
   "execution_count": 17,
   "metadata": {},
   "outputs": [
    {
     "data": {
      "image/png": "[encoded data removed]",
      "text/plain": [
       "<Figure size 432x288 with 1 Axes>"
      ]
     },
     "metadata": {
      "needs_background": "light"
     },
     "output_type": "display_data"
    }
   ],
   "source": [
    "qqplot(b, X_train[DEP_VARS], y_train)"
   ]
  },
  {
   "cell_type": "code",
   "execution_count": 18,
   "metadata": {},
   "outputs": [],
   "source": [
    "#---------------------------------\n",
    "# VOLUME SOLD AS RESPONSE VARIABLE\n",
    "#---------------------------------"
   ]
  },
  {
   "cell_type": "code",
   "execution_count": 39,
   "metadata": {},
   "outputs": [],
   "source": [
    "X_train,X_test, y_train, y_test = train_test_split(.5, df_agg,'Volume Sold (Gallons)')"
   ]
  },
  {
   "cell_type": "code",
   "execution_count": 40,
   "metadata": {
    "scrolled": true
   },
   "outputs": [
    {
     "data": {
      "text/html": [
       "<div>\n",
       "<style scoped>\n",
       "    .dataframe tbody tr th:only-of-type {\n",
       "        vertical-align: middle;\n",
       "    }\n",
       "\n",
       "    .dataframe tbody tr th {\n",
       "        vertical-align: top;\n",
       "    }\n",
       "\n",
       "    .dataframe thead th {\n",
       "        text-align: right;\n",
       "    }\n",
       "</style>\n",
       "<table border=\"1\" class=\"dataframe\">\n",
       "  <thead>\n",
       "    <tr style=\"text-align: right;\">\n",
       "      <th></th>\n",
       "      <th>Year</th>\n",
       "      <th>Quarter</th>\n",
       "      <th>Bottle Volume (ml)</th>\n",
       "      <th>Bottles Sold</th>\n",
       "      <th>Sale (Dollars)</th>\n",
       "      <th>State Bottle Cost</th>\n",
       "      <th>State Bottle Retail</th>\n",
       "      <th>Volume Sold (Liters)</th>\n",
       "      <th>Average Emp</th>\n",
       "      <th>Wages</th>\n",
       "    </tr>\n",
       "  </thead>\n",
       "  <tbody>\n",
       "    <tr>\n",
       "      <th>1231</th>\n",
       "      <td>2012</td>\n",
       "      <td>4</td>\n",
       "      <td>2011201</td>\n",
       "      <td>13836</td>\n",
       "      <td>174753.48</td>\n",
       "      <td>18312.87</td>\n",
       "      <td>27573.34</td>\n",
       "      <td>14746.15</td>\n",
       "      <td>7871.0</td>\n",
       "      <td>6.532405e+07</td>\n",
       "    </tr>\n",
       "    <tr>\n",
       "      <th>1217</th>\n",
       "      <td>2012</td>\n",
       "      <td>3</td>\n",
       "      <td>6678905</td>\n",
       "      <td>57256</td>\n",
       "      <td>711823.06</td>\n",
       "      <td>64013.45</td>\n",
       "      <td>96233.42</td>\n",
       "      <td>54044.13</td>\n",
       "      <td>32882.0</td>\n",
       "      <td>3.061191e+08</td>\n",
       "    </tr>\n",
       "    <tr>\n",
       "      <th>607</th>\n",
       "      <td>2012</td>\n",
       "      <td>4</td>\n",
       "      <td>1244475</td>\n",
       "      <td>8272</td>\n",
       "      <td>115213.28</td>\n",
       "      <td>11493.00</td>\n",
       "      <td>17263.56</td>\n",
       "      <td>9051.73</td>\n",
       "      <td>5343.0</td>\n",
       "      <td>5.407745e+07</td>\n",
       "    </tr>\n",
       "    <tr>\n",
       "      <th>839</th>\n",
       "      <td>2012</td>\n",
       "      <td>2</td>\n",
       "      <td>931676</td>\n",
       "      <td>8285</td>\n",
       "      <td>95281.72</td>\n",
       "      <td>7698.69</td>\n",
       "      <td>11586.74</td>\n",
       "      <td>8280.57</td>\n",
       "      <td>6223.0</td>\n",
       "      <td>5.187107e+07</td>\n",
       "    </tr>\n",
       "    <tr>\n",
       "      <th>1276</th>\n",
       "      <td>2014</td>\n",
       "      <td>2</td>\n",
       "      <td>751400</td>\n",
       "      <td>4677</td>\n",
       "      <td>57857.12</td>\n",
       "      <td>6701.44</td>\n",
       "      <td>10078.49</td>\n",
       "      <td>4948.18</td>\n",
       "      <td>2795.0</td>\n",
       "      <td>2.140323e+07</td>\n",
       "    </tr>\n",
       "    <tr>\n",
       "      <th>...</th>\n",
       "      <td>...</td>\n",
       "      <td>...</td>\n",
       "      <td>...</td>\n",
       "      <td>...</td>\n",
       "      <td>...</td>\n",
       "      <td>...</td>\n",
       "      <td>...</td>\n",
       "      <td>...</td>\n",
       "      <td>...</td>\n",
       "      <td>...</td>\n",
       "    </tr>\n",
       "    <tr>\n",
       "      <th>505</th>\n",
       "      <td>2013</td>\n",
       "      <td>2</td>\n",
       "      <td>907350</td>\n",
       "      <td>5613</td>\n",
       "      <td>65383.90</td>\n",
       "      <td>7711.42</td>\n",
       "      <td>11603.70</td>\n",
       "      <td>5516.90</td>\n",
       "      <td>5701.0</td>\n",
       "      <td>4.856107e+07</td>\n",
       "    </tr>\n",
       "    <tr>\n",
       "      <th>401</th>\n",
       "      <td>2013</td>\n",
       "      <td>2</td>\n",
       "      <td>14897450</td>\n",
       "      <td>143279</td>\n",
       "      <td>1885358.28</td>\n",
       "      <td>141579.43</td>\n",
       "      <td>212978.20</td>\n",
       "      <td>141362.30</td>\n",
       "      <td>112795.0</td>\n",
       "      <td>1.063531e+09</td>\n",
       "    </tr>\n",
       "    <tr>\n",
       "      <th>1181</th>\n",
       "      <td>2013</td>\n",
       "      <td>2</td>\n",
       "      <td>4467025</td>\n",
       "      <td>40433</td>\n",
       "      <td>512740.41</td>\n",
       "      <td>40047.62</td>\n",
       "      <td>60264.88</td>\n",
       "      <td>41262.79</td>\n",
       "      <td>18759.0</td>\n",
       "      <td>1.561962e+08</td>\n",
       "    </tr>\n",
       "    <tr>\n",
       "      <th>712</th>\n",
       "      <td>2013</td>\n",
       "      <td>1</td>\n",
       "      <td>3170050</td>\n",
       "      <td>26034</td>\n",
       "      <td>359046.17</td>\n",
       "      <td>29648.74</td>\n",
       "      <td>44556.00</td>\n",
       "      <td>29391.31</td>\n",
       "      <td>11803.0</td>\n",
       "      <td>1.043757e+08</td>\n",
       "    </tr>\n",
       "    <tr>\n",
       "      <th>1063</th>\n",
       "      <td>2013</td>\n",
       "      <td>1</td>\n",
       "      <td>26970003</td>\n",
       "      <td>329650</td>\n",
       "      <td>3853202.83</td>\n",
       "      <td>277791.37</td>\n",
       "      <td>417297.93</td>\n",
       "      <td>269916.23</td>\n",
       "      <td>167232.0</td>\n",
       "      <td>1.659644e+09</td>\n",
       "    </tr>\n",
       "  </tbody>\n",
       "</table>\n",
       "<p>646 rows × 10 columns</p>\n",
       "</div>"
      ],
      "text/plain": [
       "      Year Quarter  Bottle Volume (ml)  Bottles Sold  Sale (Dollars)  \\\n",
       "1231  2012       4             2011201         13836       174753.48   \n",
       "1217  2012       3             6678905         57256       711823.06   \n",
       "607   2012       4             1244475          8272       115213.28   \n",
       "839   2012       2              931676          8285        95281.72   \n",
       "1276  2014       2              751400          4677        57857.12   \n",
       "...    ...     ...                 ...           ...             ...   \n",
       "505   2013       2              907350          5613        65383.90   \n",
       "401   2013       2            14897450        143279      1885358.28   \n",
       "1181  2013       2             4467025         40433       512740.41   \n",
       "712   2013       1             3170050         26034       359046.17   \n",
       "1063  2013       1            26970003        329650      3853202.83   \n",
       "\n",
       "      State Bottle Cost  State Bottle Retail  Volume Sold (Liters)  \\\n",
       "1231           18312.87             27573.34              14746.15   \n",
       "1217           64013.45             96233.42              54044.13   \n",
       "607            11493.00             17263.56               9051.73   \n",
       "839             7698.69             11586.74               8280.57   \n",
       "1276            6701.44             10078.49               4948.18   \n",
       "...                 ...                  ...                   ...   \n",
       "505             7711.42             11603.70               5516.90   \n",
       "401           141579.43            212978.20             141362.30   \n",
       "1181           40047.62             60264.88              41262.79   \n",
       "712            29648.74             44556.00              29391.31   \n",
       "1063          277791.37            417297.93             269916.23   \n",
       "\n",
       "      Average Emp         Wages  \n",
       "1231       7871.0  6.532405e+07  \n",
       "1217      32882.0  3.061191e+08  \n",
       "607        5343.0  5.407745e+07  \n",
       "839        6223.0  5.187107e+07  \n",
       "1276       2795.0  2.140323e+07  \n",
       "...           ...           ...  \n",
       "505        5701.0  4.856107e+07  \n",
       "401      112795.0  1.063531e+09  \n",
       "1181      18759.0  1.561962e+08  \n",
       "712       11803.0  1.043757e+08  \n",
       "1063     167232.0  1.659644e+09  \n",
       "\n",
       "[646 rows x 10 columns]"
      ]
     },
     "execution_count": 40,
     "metadata": {},
     "output_type": "execute_result"
    }
   ],
   "source": [
    "X_train"
   ]
  },
  {
   "cell_type": "code",
   "execution_count": 41,
   "metadata": {},
   "outputs": [
    {
     "data": {
      "text/plain": [
       "(0.9808565640796545, 4876.857656325164)"
      ]
     },
     "execution_count": 41,
     "metadata": {},
     "output_type": "execute_result"
    }
   ],
   "source": [
    "DEP_VARS = [\"Year\",\"Quarter\",\"Average Emp\", \"Wages\"]\n",
    "b = linear_regression(X_train[DEP_VARS], y_train)\n",
    "r2(b, X_train[DEP_VARS], y_train),rmse(b, X_test[DEP_VARS], y_test)"
   ]
  },
  {
   "cell_type": "code",
   "execution_count": 64,
   "metadata": {},
   "outputs": [
    {
     "data": {
      "text/plain": [
       "(0.05025570366098569, 0.1124676304778452)"
      ]
     },
     "execution_count": 64,
     "metadata": {},
     "output_type": "execute_result"
    }
   ],
   "source": [
    "aic(b,X_test[DEP_VARS],y_test),bic(b,X_test[DEP_VARS],y_test)"
   ]
  },
  {
   "cell_type": "code",
   "execution_count": 22,
   "metadata": {},
   "outputs": [
    {
     "data": {
      "image/png": "[encoded data removed]",
      "text/plain": [
       "<Figure size 432x288 with 1 Axes>"
      ]
     },
     "metadata": {
      "needs_background": "light"
     },
     "output_type": "display_data"
    }
   ],
   "source": [
    "qqplot(b, X_train[DEP_VARS], y_train)"
   ]
  },
  {
   "cell_type": "code",
   "execution_count": 65,
   "metadata": {},
   "outputs": [
    {
     "data": {
      "text/plain": [
       "(0.9806162718623509, 4577.487547390349)"
      ]
     },
     "execution_count": 65,
     "metadata": {},
     "output_type": "execute_result"
    }
   ],
   "source": [
    "DEP_VARS2 = [\"Year\",\"Quarter\",\"Average Emp\"]\n",
    "b = linear_regression(X_train[DEP_VARS2], y_train)\n",
    "r2(b, X_train[DEP_VARS2], y_train), rmse(b, X_test[DEP_VARS2], y_test)"
   ]
  },
  {
   "cell_type": "code",
   "execution_count": 66,
   "metadata": {},
   "outputs": [
    {
     "data": {
      "text/plain": [
       "(0.044494670920302515, 0.09979416142417764)"
      ]
     },
     "execution_count": 66,
     "metadata": {},
     "output_type": "execute_result"
    }
   ],
   "source": [
    "aic(b,X_test[DEP_VARS2],y_test),bic(b,X_test[DEP_VARS2],y_test)"
   ]
  },
  {
   "cell_type": "code",
   "execution_count": 24,
   "metadata": {},
   "outputs": [
    {
     "data": {
      "image/png": "[encoded data removed]",
      "text/plain": [
       "<Figure size 432x288 with 1 Axes>"
      ]
     },
     "metadata": {
      "needs_background": "light"
     },
     "output_type": "display_data"
    }
   ],
   "source": [
    "qqplot(b, X_train[DEP_VARS2], y_train)"
   ]
  },
  {
   "cell_type": "code",
   "execution_count": 68,
   "metadata": {},
   "outputs": [
    {
     "data": {
      "text/plain": [
       "(0.975011243018714, 7154.012876845848)"
      ]
     },
     "execution_count": 68,
     "metadata": {},
     "output_type": "execute_result"
    }
   ],
   "source": [
    "DEP_VARS3 = [\"Year\",\"Quarter\",\"Wages\"]\n",
    "b = linear_regression(X_train[DEP_VARS3], y_train)\n",
    "r2(b, X_train[DEP_VARS3], y_train), rmse(b, X_test[DEP_VARS3], y_test)"
   ]
  },
  {
   "cell_type": "code",
   "execution_count": 69,
   "metadata": {},
   "outputs": [
    {
     "data": {
      "text/plain": [
       "(0.0730070692534831, 0.12830655975735822)"
      ]
     },
     "execution_count": 69,
     "metadata": {},
     "output_type": "execute_result"
    }
   ],
   "source": [
    "aic(b,X_test[DEP_VARS3],y_test),bic(b,X_test[DEP_VARS3],y_test)"
   ]
  },
  {
   "cell_type": "code",
   "execution_count": 26,
   "metadata": {},
   "outputs": [
    {
     "data": {
      "image/png": "[encoded data removed]",
      "text/plain": [
       "<Figure size 432x288 with 1 Axes>"
      ]
     },
     "metadata": {
      "needs_background": "light"
     },
     "output_type": "display_data"
    }
   ],
   "source": [
    "qqplot(b, X_train[DEP_VARS3], y_train)"
   ]
  }
 ],
 "metadata": {
  "kernelspec": {
   "display_name": "Python 3",
   "language": "python",
   "name": "python3"
  },
  "language_info": {
   "codemirror_mode": {
    "name": "ipython",
    "version": 3
   },
   "file_extension": ".py",
   "mimetype": "text/x-python",
   "name": "python",
   "nbconvert_exporter": "python",
   "pygments_lexer": "ipython3",
   "version": "3.7.3"
  }
 },
 "nbformat": 4,
 "nbformat_minor": 4
}
