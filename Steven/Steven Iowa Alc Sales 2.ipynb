{
 "cells": [
  {
   "cell_type": "code",
   "execution_count": 3,
   "metadata": {},
   "outputs": [],
   "source": [
    "import numpy as np\n",
    "import pandas as pd\n",
    "import re\n",
    "import scipy.stats as stats\n",
    "import pylab\n",
    "import gc"
   ]
  },
  {
   "cell_type": "code",
   "execution_count": 2,
   "metadata": {},
   "outputs": [],
   "source": [
    "def linear_regression(X, y):\n",
    "    X = pd.get_dummies(X, drop_first = True)._get_numeric_data().values\n",
    "    y = y.values\n",
    "    \n",
    "    intercept_col = np.ones(X.shape[0]).reshape(X.shape[0],1)\n",
    "    X = np.hstack((intercept_col, X))\n",
    "    b = np.linalg.inv(X.T@X)@X.T@y\n",
    "    return b\n",
    "\n",
    "def rmse(slopes, X_test, y_test):\n",
    "    X_test = pd.get_dummies(X_test, drop_first = True)._get_numeric_data().values\n",
    "    intercept_col = np.ones(X_test.shape[0]).reshape(X_test.shape[0],1)\n",
    "    X_test = np.hstack((intercept_col, X_test))\n",
    "    \n",
    "    y_val_pred = X_test @ b\n",
    "    y_val = y_test.values\n",
    "    return np.sqrt(((y_val - y_val_pred) ** 2).mean())\n",
    "    \n",
    "def train_test_split(frac, X, response = 'Volume Sold (Gallons)'):\n",
    "    X_train = X.sample(frac = frac)\n",
    "    X_test = X.drop(X_train.index, axis = 0)\n",
    "    \n",
    "    y_train = X_train[response]\n",
    "    X_train = X_train.drop(['County','Area Name',response], axis = 1)\n",
    "    \n",
    "    y_test = X_test[response]\n",
    "    X_test = X_test.drop(['County','Area Name',response], axis = 1)\n",
    "    \n",
    "    return X_train,X_test, y_train, y_test\n",
    "\n",
    "def r2(b, X, y):\n",
    "    X = pd.get_dummies(X, drop_first = True)._get_numeric_data().values\n",
    "    y = y.values\n",
    "    intercept_col = np.ones(X.shape[0]).reshape(X.shape[0],1)\n",
    "    X = np.hstack((intercept_col, X))\n",
    "    \n",
    "    ss_tot = ((y - y.mean()) ** 2).sum()\n",
    "    \n",
    "    y_val_pred = X @ b\n",
    "    ss_res = ((y - y_val_pred) ** 2).sum()\n",
    "    return 1 - (ss_res/ss_tot)\n",
    "\n",
    "def adj_r2(b, X, y):\n",
    "    X = pd.get_dummies(X, drop_first = True)._get_numeric_data().values\n",
    "    y = y.values\n",
    "    intercept_col = np.ones(X.shape[0]).reshape(X.shape[0],1)\n",
    "    X = np.hstack((intercept_col, X))\n",
    "    \n",
    "    ss_tot = ((y - y.mean()) ** 2).sum()\n",
    "    \n",
    "    y_val_pred = X @ b\n",
    "    ss_res = ((y - y_val_pred) ** 2).sum()\n",
    "    \n",
    "    r2 = 1 - (ss_res/ss_tot)\n",
    "    return 1 - (((1 - r2) * (X.shape[0] - 1)) / (X.shape[0] - X.shape[1] - 1))\n",
    "\n",
    "def qqplot(b, X, y):\n",
    "    X = pd.get_dummies(X, drop_first = True)._get_numeric_data().values\n",
    "    y = y.values\n",
    "    intercept_col = np.ones(X.shape[0]).reshape(X.shape[0],1)\n",
    "    X = np.hstack((intercept_col, X))\n",
    "    \n",
    "    y_val_pred = X @ b\n",
    "\n",
    "    stats.probplot(y - y_val_pred, dist=\"norm\", plot=pylab)\n",
    "    pylab.show()\n",
    "\n",
    "def aic(b, X, y):\n",
    "    X = pd.get_dummies(X, drop_first = True)._get_numeric_data().values\n",
    "    y = y.values\n",
    "    intercept_col = np.ones(X.shape[0]).reshape(X.shape[0],1)\n",
    "    X = np.hstack((intercept_col, X))\n",
    "    y_val_pred = X @ b\n",
    "    \n",
    "    ss_tot = ((y - y.mean()) ** 2).sum()\n",
    "    ss_res = ((y - y_val_pred) ** 2).sum()\n",
    "    sigmasq = ss_tot / X.shape[0]\n",
    "    p = X.shape[1]\n",
    "    \n",
    "    return (ss_res + 2 *(p * sigmasq)) / ss_tot\n",
    "\n",
    "def bic(b, X, y):\n",
    "    X = pd.get_dummies(X, drop_first = True)._get_numeric_data().values\n",
    "    y = y.values\n",
    "    intercept_col = np.ones(X.shape[0]).reshape(X.shape[0],1)\n",
    "    X = np.hstack((intercept_col, X))\n",
    "    y_val_pred = X @ b\n",
    "    \n",
    "    ss_tot = ((y - y.mean()) ** 2).sum()\n",
    "    ss_res = ((y - y_val_pred) ** 2).sum()\n",
    "    sigmasq = ss_tot / X.shape[0]\n",
    "    p = X.shape[1]\n",
    "    n = X.shape[0]\n",
    "    \n",
    "    return (ss_res + (np.log(n) * p * sigmasq)) / ss_tot"
   ]
  },
  {
   "cell_type": "code",
   "execution_count": 4,
   "metadata": {},
   "outputs": [
    {
     "name": "stderr",
     "output_type": "stream",
     "text": [
      "/opt/tljh/user/lib/python3.7/site-packages/IPython/core/interactiveshell.py:3146: DtypeWarning: Columns (6,14) have mixed types.Specify dtype option on import or set low_memory=False.\n",
      "  interactivity=interactivity, compiler=compiler, result=result)\n"
     ]
    }
   ],
   "source": [
    "# LOAD IN MAIN DATASET\n",
    "df = pd.read_csv(\"data/iowaliquor.csv\")\n",
    "# df_sample = pd.read_csv(\"data/iowa-sample.csv\")"
   ]
  },
  {
   "cell_type": "code",
   "execution_count": 5,
   "metadata": {},
   "outputs": [],
   "source": [
    "# LOAD IN CENSUS DATASET\n",
    "df_raw_county = pd.read_csv(\"data/co-est2019-alldata.csv\", encoding = \"ISO-8859-1\")\n",
    "df_raw_county[\"id\"] = df_raw_county.index"
   ]
  },
  {
   "cell_type": "code",
   "execution_count": 6,
   "metadata": {},
   "outputs": [],
   "source": [
    "df_county_year = pd.wide_to_long(df_raw_county.drop([\"SUMLEV\",\"REGION\",\"DIVISION\",\"STATE\",\"COUNTY\",\"CENSUS2010POP\",\"ESTIMATESBASE2010\"],axis = 1),\n",
    "                  [\"POPESTIMATE\",\"NPOCHG_\",\"BIRTHS\",\n",
    "                  \"DEATHS\",\"NATURALINC\",\"INTERNATIONALMIG\",\n",
    "                  \"DOMESTICMIG\",\"NETMIG\",\"RESIDUAL\",\n",
    "                  \"GQESTIMATESBASE\",\"RBIRTH\",\"RDEATH\",\"RNATURALINC\",\n",
    "                  \"RINTERNATIONALMIG\",\"RDOMESTICMIG\",\"RNETMIG\",\"NPOPCHG_\",\"GQESTIMATES\"], i=\"id\", j=\"year\")\n",
    "\n",
    "df_county_year = df_county_year[df_county_year[\"STNAME\"] == \"Iowa\"]\n",
    "df_county_year[\"CTYNAME\"] = df_county_year[\"CTYNAME\"].str.replace(\" County\", \"\").str.lower()\n",
    "df_county_year = df_county_year.drop(\"NPOCHG_\", axis = 1).dropna(axis = 1)\n",
    "df_county_year = df_county_year[[\"CTYNAME\",\"POPESTIMATE\"]]"
   ]
  },
  {
   "cell_type": "code",
   "execution_count": null,
   "metadata": {},
   "outputs": [],
   "source": [
    "df_county_year.head()"
   ]
  },
  {
   "cell_type": "code",
   "execution_count": 7,
   "metadata": {},
   "outputs": [
    {
     "data": {
      "text/html": [
       "<div>\n",
       "<style scoped>\n",
       "    .dataframe tbody tr th:only-of-type {\n",
       "        vertical-align: middle;\n",
       "    }\n",
       "\n",
       "    .dataframe tbody tr th {\n",
       "        vertical-align: top;\n",
       "    }\n",
       "\n",
       "    .dataframe thead th {\n",
       "        text-align: right;\n",
       "    }\n",
       "</style>\n",
       "<table border=\"1\" class=\"dataframe\">\n",
       "  <thead>\n",
       "    <tr style=\"text-align: right;\">\n",
       "      <th></th>\n",
       "      <th>Year</th>\n",
       "      <th>Quarter</th>\n",
       "      <th>Area Type</th>\n",
       "      <th>Area Name</th>\n",
       "      <th>Industry</th>\n",
       "      <th>Description</th>\n",
       "      <th>Locations</th>\n",
       "      <th>Month 1</th>\n",
       "      <th>Month 2</th>\n",
       "      <th>Month 3</th>\n",
       "      <th>Average Emp</th>\n",
       "      <th>Wages</th>\n",
       "      <th>Average Wage</th>\n",
       "    </tr>\n",
       "  </thead>\n",
       "  <tbody>\n",
       "    <tr>\n",
       "      <th>0</th>\n",
       "      <td>2011</td>\n",
       "      <td>1</td>\n",
       "      <td>Statewide</td>\n",
       "      <td>Statewide</td>\n",
       "      <td>11.0</td>\n",
       "      <td>Agriculture, Forestry, Fishing &amp; Hunt</td>\n",
       "      <td>1921.0</td>\n",
       "      <td>14343.0</td>\n",
       "      <td>14504.0</td>\n",
       "      <td>14895.0</td>\n",
       "      <td>14581.0</td>\n",
       "      <td>1.204824e+08</td>\n",
       "      <td>8263.0</td>\n",
       "    </tr>\n",
       "    <tr>\n",
       "      <th>1</th>\n",
       "      <td>2011</td>\n",
       "      <td>1</td>\n",
       "      <td>Statewide</td>\n",
       "      <td>Statewide</td>\n",
       "      <td>21.0</td>\n",
       "      <td>Mining, Quarrying, &amp; Oil &amp; Gas Extrac</td>\n",
       "      <td>186.0</td>\n",
       "      <td>1638.0</td>\n",
       "      <td>1811.0</td>\n",
       "      <td>1818.0</td>\n",
       "      <td>1756.0</td>\n",
       "      <td>1.679560e+07</td>\n",
       "      <td>9567.0</td>\n",
       "    </tr>\n",
       "    <tr>\n",
       "      <th>2</th>\n",
       "      <td>2011</td>\n",
       "      <td>1</td>\n",
       "      <td>Statewide</td>\n",
       "      <td>Statewide</td>\n",
       "      <td>22.0</td>\n",
       "      <td>Utilities</td>\n",
       "      <td>449.0</td>\n",
       "      <td>8330.0</td>\n",
       "      <td>8288.0</td>\n",
       "      <td>8328.0</td>\n",
       "      <td>8315.0</td>\n",
       "      <td>1.593543e+08</td>\n",
       "      <td>19164.0</td>\n",
       "    </tr>\n",
       "    <tr>\n",
       "      <th>3</th>\n",
       "      <td>2011</td>\n",
       "      <td>1</td>\n",
       "      <td>Statewide</td>\n",
       "      <td>Statewide</td>\n",
       "      <td>23.0</td>\n",
       "      <td>Construction</td>\n",
       "      <td>8994.0</td>\n",
       "      <td>52324.0</td>\n",
       "      <td>51154.0</td>\n",
       "      <td>53629.0</td>\n",
       "      <td>52369.0</td>\n",
       "      <td>5.506093e+08</td>\n",
       "      <td>10514.0</td>\n",
       "    </tr>\n",
       "    <tr>\n",
       "      <th>4</th>\n",
       "      <td>2011</td>\n",
       "      <td>1</td>\n",
       "      <td>Statewide</td>\n",
       "      <td>Statewide</td>\n",
       "      <td>31.0</td>\n",
       "      <td>Manufacturing</td>\n",
       "      <td>3985.0</td>\n",
       "      <td>201803.0</td>\n",
       "      <td>202120.0</td>\n",
       "      <td>203641.0</td>\n",
       "      <td>202521.0</td>\n",
       "      <td>2.454029e+09</td>\n",
       "      <td>12117.0</td>\n",
       "    </tr>\n",
       "    <tr>\n",
       "      <th>...</th>\n",
       "      <td>...</td>\n",
       "      <td>...</td>\n",
       "      <td>...</td>\n",
       "      <td>...</td>\n",
       "      <td>...</td>\n",
       "      <td>...</td>\n",
       "      <td>...</td>\n",
       "      <td>...</td>\n",
       "      <td>...</td>\n",
       "      <td>...</td>\n",
       "      <td>...</td>\n",
       "      <td>...</td>\n",
       "      <td>...</td>\n",
       "    </tr>\n",
       "    <tr>\n",
       "      <th>230382</th>\n",
       "      <td>2015</td>\n",
       "      <td>2</td>\n",
       "      <td>County</td>\n",
       "      <td>Benton</td>\n",
       "      <td>515.0</td>\n",
       "      <td>Broadcasting (except Internet)</td>\n",
       "      <td>0.0</td>\n",
       "      <td>0.0</td>\n",
       "      <td>0.0</td>\n",
       "      <td>0.0</td>\n",
       "      <td>0.0</td>\n",
       "      <td>0.000000e+00</td>\n",
       "      <td>0.0</td>\n",
       "    </tr>\n",
       "    <tr>\n",
       "      <th>230383</th>\n",
       "      <td>2015</td>\n",
       "      <td>2</td>\n",
       "      <td>County</td>\n",
       "      <td>Benton</td>\n",
       "      <td>517.0</td>\n",
       "      <td>Telecommunications</td>\n",
       "      <td>6.0</td>\n",
       "      <td>38.0</td>\n",
       "      <td>38.0</td>\n",
       "      <td>37.0</td>\n",
       "      <td>38.0</td>\n",
       "      <td>4.717600e+05</td>\n",
       "      <td>12525.0</td>\n",
       "    </tr>\n",
       "    <tr>\n",
       "      <th>230384</th>\n",
       "      <td>2015</td>\n",
       "      <td>2</td>\n",
       "      <td>County</td>\n",
       "      <td>Benton</td>\n",
       "      <td>518.0</td>\n",
       "      <td>Data Processing, Hosting, Related</td>\n",
       "      <td>0.0</td>\n",
       "      <td>0.0</td>\n",
       "      <td>0.0</td>\n",
       "      <td>0.0</td>\n",
       "      <td>0.0</td>\n",
       "      <td>0.000000e+00</td>\n",
       "      <td>0.0</td>\n",
       "    </tr>\n",
       "    <tr>\n",
       "      <th>230385</th>\n",
       "      <td>2015</td>\n",
       "      <td>2</td>\n",
       "      <td>County</td>\n",
       "      <td>Benton</td>\n",
       "      <td>519.0</td>\n",
       "      <td>Other Information Services</td>\n",
       "      <td>1.0</td>\n",
       "      <td>0.0</td>\n",
       "      <td>0.0</td>\n",
       "      <td>0.0</td>\n",
       "      <td>0.0</td>\n",
       "      <td>0.000000e+00</td>\n",
       "      <td>0.0</td>\n",
       "    </tr>\n",
       "    <tr>\n",
       "      <th>230386</th>\n",
       "      <td>2015</td>\n",
       "      <td>2</td>\n",
       "      <td>Co</td>\n",
       "      <td>0</td>\n",
       "      <td>0.0</td>\n",
       "      <td>0</td>\n",
       "      <td>0.0</td>\n",
       "      <td>0.0</td>\n",
       "      <td>0.0</td>\n",
       "      <td>0.0</td>\n",
       "      <td>0.0</td>\n",
       "      <td>0.000000e+00</td>\n",
       "      <td>0.0</td>\n",
       "    </tr>\n",
       "  </tbody>\n",
       "</table>\n",
       "<p>230387 rows × 13 columns</p>\n",
       "</div>"
      ],
      "text/plain": [
       "        Year  Quarter  Area Type  Area Name  Industry  \\\n",
       "0       2011        1  Statewide  Statewide      11.0   \n",
       "1       2011        1  Statewide  Statewide      21.0   \n",
       "2       2011        1  Statewide  Statewide      22.0   \n",
       "3       2011        1  Statewide  Statewide      23.0   \n",
       "4       2011        1  Statewide  Statewide      31.0   \n",
       "...      ...      ...        ...        ...       ...   \n",
       "230382  2015        2     County     Benton     515.0   \n",
       "230383  2015        2     County     Benton     517.0   \n",
       "230384  2015        2     County     Benton     518.0   \n",
       "230385  2015        2     County     Benton     519.0   \n",
       "230386  2015        2         Co          0       0.0   \n",
       "\n",
       "                                  Description  Locations   Month 1   Month 2  \\\n",
       "0       Agriculture, Forestry, Fishing & Hunt     1921.0   14343.0   14504.0   \n",
       "1       Mining, Quarrying, & Oil & Gas Extrac      186.0    1638.0    1811.0   \n",
       "2                                   Utilities      449.0    8330.0    8288.0   \n",
       "3                                Construction     8994.0   52324.0   51154.0   \n",
       "4                               Manufacturing     3985.0  201803.0  202120.0   \n",
       "...                                       ...        ...       ...       ...   \n",
       "230382         Broadcasting (except Internet)        0.0       0.0       0.0   \n",
       "230383                     Telecommunications        6.0      38.0      38.0   \n",
       "230384      Data Processing, Hosting, Related        0.0       0.0       0.0   \n",
       "230385             Other Information Services        1.0       0.0       0.0   \n",
       "230386                                      0        0.0       0.0       0.0   \n",
       "\n",
       "         Month 3  Average Emp         Wages  Average Wage  \n",
       "0        14895.0      14581.0  1.204824e+08        8263.0  \n",
       "1         1818.0       1756.0  1.679560e+07        9567.0  \n",
       "2         8328.0       8315.0  1.593543e+08       19164.0  \n",
       "3        53629.0      52369.0  5.506093e+08       10514.0  \n",
       "4       203641.0     202521.0  2.454029e+09       12117.0  \n",
       "...          ...          ...           ...           ...  \n",
       "230382       0.0          0.0  0.000000e+00           0.0  \n",
       "230383      37.0         38.0  4.717600e+05       12525.0  \n",
       "230384       0.0          0.0  0.000000e+00           0.0  \n",
       "230385       0.0          0.0  0.000000e+00           0.0  \n",
       "230386       0.0          0.0  0.000000e+00           0.0  \n",
       "\n",
       "[230387 rows x 13 columns]"
      ]
     },
     "execution_count": 7,
     "metadata": {},
     "output_type": "execute_result"
    }
   ],
   "source": [
    "# LOAD IN EMPLLOYMENT DATA\n",
    "df_raw_employment = pd.read_csv(\"data/Iowa_Quarterly_Census_of_Employment_and_Wage_data__Statewide_and_County_.csv\")\n",
    "df_raw_employment.fillna(0)"
   ]
  },
  {
   "cell_type": "code",
   "execution_count": 8,
   "metadata": {},
   "outputs": [],
   "source": [
    "df_employement = pd.pivot_table(df_raw_employment,\n",
    "               index = [\"Year\", \"Quarter\", \"Area Name\"],\n",
    "               values = [\"Average Emp\", \"Wages\"],\n",
    "               aggfunc = np.sum\n",
    "              ).reset_index()\n",
    "\n",
    "df_employement[\"Area Name\"] = df_employement[\"Area Name\"].str.lower()"
   ]
  },
  {
   "cell_type": "code",
   "execution_count": 9,
   "metadata": {},
   "outputs": [],
   "source": [
    "df_employement[\"Year\"] = df_employement[\"Year\"].astype('str')\n",
    "df_employement[\"Quarter\"] = df_employement[\"Quarter\"].astype('str')"
   ]
  },
  {
   "cell_type": "code",
   "execution_count": null,
   "metadata": {},
   "outputs": [],
   "source": [
    "# df_employement.head()"
   ]
  },
  {
   "cell_type": "code",
   "execution_count": 10,
   "metadata": {},
   "outputs": [],
   "source": [
    "df[\"County\"] = df[\"County\"].str.lower()"
   ]
  },
  {
   "cell_type": "code",
   "execution_count": 11,
   "metadata": {},
   "outputs": [],
   "source": [
    "df[\"Year\"] = pd.DatetimeIndex(df['Date']).year\n",
    "df[\"Quarter\"] = pd.DatetimeIndex(df['Date']).quarter"
   ]
  },
  {
   "cell_type": "code",
   "execution_count": 12,
   "metadata": {},
   "outputs": [],
   "source": [
    "df[\"Year\"] = df[\"Year\"].astype('str')\n",
    "df[\"Quarter\"] = df[\"Quarter\"].astype('str')\n",
    "df[\"Pack\"] = df[\"Pack\"].astype('str')"
   ]
  },
  {
   "cell_type": "code",
   "execution_count": 13,
   "metadata": {},
   "outputs": [],
   "source": [
    "GROUP_VARIABLES = ['County','Year','Quarter']\n",
    "NUMERIC_VARIABLES = ['Bottle Volume (ml)','State Bottle Cost', 'State Bottle Retail',\n",
    "                     'Bottles Sold','Sale (Dollars)', 'Volume Sold (Liters)', 'Volume Sold (Gallons)']\n",
    "\n",
    "df_agg =  pd.pivot_table(df, \n",
    "                        index = GROUP_VARIABLES,\n",
    "                        values = NUMERIC_VARIABLES,\n",
    "                        aggfunc = np.sum).reset_index().merge(df_employement, 'inner', left_on = ['Year','County', 'Quarter'], right_on = ['Year','Area Name', 'Quarter']).dropna()"
   ]
  },
  {
   "cell_type": "code",
   "execution_count": 14,
   "metadata": {},
   "outputs": [],
   "source": [
    "df_county_year = df_county_year.reset_index()"
   ]
  },
  {
   "cell_type": "code",
   "execution_count": 15,
   "metadata": {},
   "outputs": [],
   "source": [
    "df_agg[\"Year\"] = df_agg[\"Year\"].astype('int32')"
   ]
  },
  {
   "cell_type": "code",
   "execution_count": 16,
   "metadata": {},
   "outputs": [],
   "source": [
    "df_agg = df_agg.merge(df_county_year, 'inner', left_on = ['Year','County'], right_on = ['year','CTYNAME']).dropna()"
   ]
  },
  {
   "cell_type": "code",
   "execution_count": 19,
   "metadata": {},
   "outputs": [],
   "source": [
    "df_agg[\"Volume Sold (Gallons) per Capita\"] = df_agg[\"Volume Sold (Gallons)\"] / df_agg[\"POPESTIMATE\"]"
   ]
  },
  {
   "cell_type": "code",
   "execution_count": 20,
   "metadata": {},
   "outputs": [
    {
     "data": {
      "text/html": [
       "<div>\n",
       "<style scoped>\n",
       "    .dataframe tbody tr th:only-of-type {\n",
       "        vertical-align: middle;\n",
       "    }\n",
       "\n",
       "    .dataframe tbody tr th {\n",
       "        vertical-align: top;\n",
       "    }\n",
       "\n",
       "    .dataframe thead th {\n",
       "        text-align: right;\n",
       "    }\n",
       "</style>\n",
       "<table border=\"1\" class=\"dataframe\">\n",
       "  <thead>\n",
       "    <tr style=\"text-align: right;\">\n",
       "      <th></th>\n",
       "      <th>County</th>\n",
       "      <th>Year</th>\n",
       "      <th>Quarter</th>\n",
       "      <th>Bottle Volume (ml)</th>\n",
       "      <th>Bottles Sold</th>\n",
       "      <th>Sale (Dollars)</th>\n",
       "      <th>State Bottle Cost</th>\n",
       "      <th>State Bottle Retail</th>\n",
       "      <th>Volume Sold (Gallons)</th>\n",
       "      <th>Volume Sold (Liters)</th>\n",
       "      <th>Area Name</th>\n",
       "      <th>Average Emp</th>\n",
       "      <th>Wages</th>\n",
       "      <th>id</th>\n",
       "      <th>year</th>\n",
       "      <th>CTYNAME</th>\n",
       "      <th>POPESTIMATE</th>\n",
       "      <th>Volume Sold (Gallons) per Capita</th>\n",
       "    </tr>\n",
       "  </thead>\n",
       "  <tbody>\n",
       "    <tr>\n",
       "      <th>0</th>\n",
       "      <td>adair</td>\n",
       "      <td>2012</td>\n",
       "      <td>1</td>\n",
       "      <td>965450</td>\n",
       "      <td>7107</td>\n",
       "      <td>78426.57</td>\n",
       "      <td>7751.07</td>\n",
       "      <td>11660.15</td>\n",
       "      <td>1830.92</td>\n",
       "      <td>6932.89</td>\n",
       "      <td>adair</td>\n",
       "      <td>3941.0</td>\n",
       "      <td>25331409.0</td>\n",
       "      <td>805</td>\n",
       "      <td>2012</td>\n",
       "      <td>adair</td>\n",
       "      <td>7468</td>\n",
       "      <td>0.245169</td>\n",
       "    </tr>\n",
       "    <tr>\n",
       "      <th>1</th>\n",
       "      <td>adair</td>\n",
       "      <td>2012</td>\n",
       "      <td>2</td>\n",
       "      <td>1235100</td>\n",
       "      <td>9492</td>\n",
       "      <td>110003.28</td>\n",
       "      <td>10505.50</td>\n",
       "      <td>15816.48</td>\n",
       "      <td>2356.82</td>\n",
       "      <td>8925.63</td>\n",
       "      <td>adair</td>\n",
       "      <td>4377.0</td>\n",
       "      <td>28929023.0</td>\n",
       "      <td>805</td>\n",
       "      <td>2012</td>\n",
       "      <td>adair</td>\n",
       "      <td>7468</td>\n",
       "      <td>0.315589</td>\n",
       "    </tr>\n",
       "    <tr>\n",
       "      <th>2</th>\n",
       "      <td>adair</td>\n",
       "      <td>2012</td>\n",
       "      <td>3</td>\n",
       "      <td>1135625</td>\n",
       "      <td>8489</td>\n",
       "      <td>101681.95</td>\n",
       "      <td>9685.16</td>\n",
       "      <td>14563.81</td>\n",
       "      <td>2150.68</td>\n",
       "      <td>8144.73</td>\n",
       "      <td>adair</td>\n",
       "      <td>4317.0</td>\n",
       "      <td>29765410.0</td>\n",
       "      <td>805</td>\n",
       "      <td>2012</td>\n",
       "      <td>adair</td>\n",
       "      <td>7468</td>\n",
       "      <td>0.287986</td>\n",
       "    </tr>\n",
       "    <tr>\n",
       "      <th>3</th>\n",
       "      <td>adair</td>\n",
       "      <td>2012</td>\n",
       "      <td>4</td>\n",
       "      <td>1166300</td>\n",
       "      <td>9806</td>\n",
       "      <td>123579.68</td>\n",
       "      <td>10012.10</td>\n",
       "      <td>15093.50</td>\n",
       "      <td>2454.28</td>\n",
       "      <td>9293.77</td>\n",
       "      <td>adair</td>\n",
       "      <td>4261.0</td>\n",
       "      <td>30926473.0</td>\n",
       "      <td>805</td>\n",
       "      <td>2012</td>\n",
       "      <td>adair</td>\n",
       "      <td>7468</td>\n",
       "      <td>0.328640</td>\n",
       "    </tr>\n",
       "    <tr>\n",
       "      <th>4</th>\n",
       "      <td>adair</td>\n",
       "      <td>2013</td>\n",
       "      <td>1</td>\n",
       "      <td>855000</td>\n",
       "      <td>7129</td>\n",
       "      <td>82411.70</td>\n",
       "      <td>7072.67</td>\n",
       "      <td>10629.71</td>\n",
       "      <td>1786.17</td>\n",
       "      <td>6763.87</td>\n",
       "      <td>adair</td>\n",
       "      <td>4070.0</td>\n",
       "      <td>27122098.0</td>\n",
       "      <td>805</td>\n",
       "      <td>2013</td>\n",
       "      <td>adair</td>\n",
       "      <td>7387</td>\n",
       "      <td>0.241799</td>\n",
       "    </tr>\n",
       "  </tbody>\n",
       "</table>\n",
       "</div>"
      ],
      "text/plain": [
       "  County  Year Quarter  Bottle Volume (ml)  Bottles Sold  Sale (Dollars)  \\\n",
       "0  adair  2012       1              965450          7107        78426.57   \n",
       "1  adair  2012       2             1235100          9492       110003.28   \n",
       "2  adair  2012       3             1135625          8489       101681.95   \n",
       "3  adair  2012       4             1166300          9806       123579.68   \n",
       "4  adair  2013       1              855000          7129        82411.70   \n",
       "\n",
       "   State Bottle Cost  State Bottle Retail  Volume Sold (Gallons)  \\\n",
       "0            7751.07             11660.15                1830.92   \n",
       "1           10505.50             15816.48                2356.82   \n",
       "2            9685.16             14563.81                2150.68   \n",
       "3           10012.10             15093.50                2454.28   \n",
       "4            7072.67             10629.71                1786.17   \n",
       "\n",
       "   Volume Sold (Liters) Area Name  Average Emp       Wages   id  year CTYNAME  \\\n",
       "0               6932.89     adair       3941.0  25331409.0  805  2012   adair   \n",
       "1               8925.63     adair       4377.0  28929023.0  805  2012   adair   \n",
       "2               8144.73     adair       4317.0  29765410.0  805  2012   adair   \n",
       "3               9293.77     adair       4261.0  30926473.0  805  2012   adair   \n",
       "4               6763.87     adair       4070.0  27122098.0  805  2013   adair   \n",
       "\n",
       "   POPESTIMATE  Volume Sold (Gallons) per Capita  \n",
       "0         7468                          0.245169  \n",
       "1         7468                          0.315589  \n",
       "2         7468                          0.287986  \n",
       "3         7468                          0.328640  \n",
       "4         7387                          0.241799  "
      ]
     },
     "execution_count": 20,
     "metadata": {},
     "output_type": "execute_result"
    }
   ],
   "source": [
    "df_agg.head()"
   ]
  },
  {
   "cell_type": "code",
   "execution_count": null,
   "metadata": {},
   "outputs": [],
   "source": [
    "#---------------------------------\n",
    "# SALE (DOLLARS) AS RESPONSE VARIABLE\n",
    "#---------------------------------"
   ]
  },
  {
   "cell_type": "code",
   "execution_count": 21,
   "metadata": {},
   "outputs": [],
   "source": [
    "X_train,X_test, y_train, y_test = train_test_split(.5, df_agg,'Volume Sold (Gallons) per Capita')"
   ]
  },
  {
   "cell_type": "code",
   "execution_count": 22,
   "metadata": {},
   "outputs": [
    {
     "data": {
      "text/plain": [
       "(0.28554980926782736, 0.1663806759333981)"
      ]
     },
     "execution_count": 22,
     "metadata": {},
     "output_type": "execute_result"
    }
   ],
   "source": [
    "VARS = [\"Year\",\"Quarter\",\"Average Emp\", \"Wages\"]\n",
    "b = linear_regression(X_train[VARS], y_train)\n",
    "r2(b, X_train[VARS], y_train)"
   ]
  },
  {
   "cell_type": "code",
   "execution_count": 26,
   "metadata": {},
   "outputs": [
    {
     "data": {
      "text/plain": [
       "0.1663806759333981"
      ]
     },
     "execution_count": 26,
     "metadata": {},
     "output_type": "execute_result"
    }
   ],
   "source": [
    "rmse(b, X_test[VARS], y_test)"
   ]
  },
  {
   "cell_type": "code",
   "execution_count": 23,
   "metadata": {},
   "outputs": [
    {
     "data": {
      "text/plain": [
       "0.2777960862676332"
      ]
     },
     "execution_count": 23,
     "metadata": {},
     "output_type": "execute_result"
    }
   ],
   "source": [
    "adj_r2(b, X_train[VARS], y_train)"
   ]
  },
  {
   "cell_type": "code",
   "execution_count": 24,
   "metadata": {},
   "outputs": [
    {
     "data": {
      "text/plain": [
       "(0.8712814436698016, 0.9193228524063025)"
      ]
     },
     "execution_count": 24,
     "metadata": {},
     "output_type": "execute_result"
    }
   ],
   "source": [
    "aic(b,X_test[VARS],y_test),bic(b,X_test[VARS],y_test)"
   ]
  },
  {
   "cell_type": "code",
   "execution_count": 25,
   "metadata": {},
   "outputs": [
    {
     "data": {
      "image/png": "[encoded data removed]",
      "text/plain": [
       "<Figure size 432x288 with 1 Axes>"
      ]
     },
     "metadata": {
      "needs_background": "light"
     },
     "output_type": "display_data"
    }
   ],
   "source": [
    "qqplot(b, X_train[VARS], y_train)"
   ]
  }
 ],
 "metadata": {
  "kernelspec": {
   "display_name": "Python 3",
   "language": "python",
   "name": "python3"
  },
  "language_info": {
   "codemirror_mode": {
    "name": "ipython",
    "version": 3
   },
   "file_extension": ".py",
   "mimetype": "text/x-python",
   "name": "python",
   "nbconvert_exporter": "python",
   "pygments_lexer": "ipython3",
   "version": "3.7.3"
  }
 },
 "nbformat": 4,
 "nbformat_minor": 4
}
