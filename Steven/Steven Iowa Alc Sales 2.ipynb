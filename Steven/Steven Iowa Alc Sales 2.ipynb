{
 "cells": [
  {
   "cell_type": "code",
   "execution_count": 1,
   "metadata": {},
   "outputs": [],
   "source": [
    "import numpy as np\n",
    "import pandas as pd\n",
    "import re\n",
    "import scipy.stats as stats\n",
    "import pylab\n",
    "import gc"
   ]
  },
  {
   "cell_type": "code",
   "execution_count": 2,
   "metadata": {},
   "outputs": [],
   "source": [
    "def linear_regression(X, y):\n",
    "    X = pd.get_dummies(X, drop_first = True)._get_numeric_data().values\n",
    "    y = y.values\n",
    "    \n",
    "    intercept_col = np.ones(X.shape[0]).reshape(X.shape[0],1)\n",
    "    X = np.hstack((intercept_col, X))\n",
    "    b = np.linalg.inv(X.T@X)@X.T@y\n",
    "    return b\n",
    "\n",
    "def rmse(slopes, X_test, y_test):\n",
    "    X_test = pd.get_dummies(X_test, drop_first = True)._get_numeric_data().values\n",
    "    intercept_col = np.ones(X_test.shape[0]).reshape(X_test.shape[0],1)\n",
    "    X_test = np.hstack((intercept_col, X_test))\n",
    "    \n",
    "    y_val_pred = X_test @ b\n",
    "    y_val = y_test.values\n",
    "    return np.sqrt(((y_val - y_val_pred) ** 2).mean())\n",
    "    \n",
    "def train_test_split(frac, X, response = 'Volume Sold (Gallons)'):\n",
    "    X_train = X.sample(frac = frac)\n",
    "    X_test = X.drop(X_train.index, axis = 0)\n",
    "    \n",
    "    y_train = X_train[response]\n",
    "    X_train = X_train.drop(['County','Area Name',response], axis = 1)\n",
    "    \n",
    "    y_test = X_test[response]\n",
    "    X_test = X_test.drop(['County','Area Name',response], axis = 1)\n",
    "    \n",
    "    return X_train,X_test, y_train, y_test\n",
    "\n",
    "def r2(b, X, y):\n",
    "    X = pd.get_dummies(X, drop_first = True)._get_numeric_data().values\n",
    "    y = y.values\n",
    "    intercept_col = np.ones(X.shape[0]).reshape(X.shape[0],1)\n",
    "    X = np.hstack((intercept_col, X))\n",
    "    \n",
    "    ss_tot = ((y - y.mean()) ** 2).sum()\n",
    "    \n",
    "    y_val_pred = X @ b\n",
    "    ss_res = ((y - y_val_pred) ** 2).sum()\n",
    "    return 1 - (ss_res/ss_tot)\n",
    "\n",
    "def adj_r2(b, X, y):\n",
    "    X = pd.get_dummies(X, drop_first = True)._get_numeric_data().values\n",
    "    y = y.values\n",
    "    intercept_col = np.ones(X.shape[0]).reshape(X.shape[0],1)\n",
    "    X = np.hstack((intercept_col, X))\n",
    "    \n",
    "    ss_tot = ((y - y.mean()) ** 2).sum()\n",
    "    \n",
    "    y_val_pred = X @ b\n",
    "    ss_res = ((y - y_val_pred) ** 2).sum()\n",
    "    \n",
    "    r2 = 1 - (ss_res/ss_tot)\n",
    "    return 1 - (((1 - r2) * (X.shape[0] - 1)) / (X.shape[0] - X.shape[1] - 1))\n",
    "\n",
    "def qqplot(b, X, y):\n",
    "    X = pd.get_dummies(X, drop_first = True)._get_numeric_data().values\n",
    "    y = y.values\n",
    "    intercept_col = np.ones(X.shape[0]).reshape(X.shape[0],1)\n",
    "    X = np.hstack((intercept_col, X))\n",
    "    \n",
    "    y_val_pred = X @ b\n",
    "\n",
    "    stats.probplot(y - y_val_pred, dist=\"norm\", plot=pylab)\n",
    "    pylab.show()\n",
    "\n",
    "def aic(b, X, y):\n",
    "    X = pd.get_dummies(X, drop_first = True)._get_numeric_data().values\n",
    "    y = y.values\n",
    "    intercept_col = np.ones(X.shape[0]).reshape(X.shape[0],1)\n",
    "    X = np.hstack((intercept_col, X))\n",
    "    y_val_pred = X @ b\n",
    "    \n",
    "    ss_tot = ((y - y.mean()) ** 2).sum()\n",
    "    ss_res = ((y - y_val_pred) ** 2).sum()\n",
    "    sigmasq = ss_tot / X.shape[0]\n",
    "    p = X.shape[1]\n",
    "    \n",
    "    return (ss_res + 2 *(p * sigmasq)) / ss_tot\n",
    "\n",
    "def bic(b, X, y):\n",
    "    X = pd.get_dummies(X, drop_first = True)._get_numeric_data().values\n",
    "    y = y.values\n",
    "    intercept_col = np.ones(X.shape[0]).reshape(X.shape[0],1)\n",
    "    X = np.hstack((intercept_col, X))\n",
    "    y_val_pred = X @ b\n",
    "    \n",
    "    ss_tot = ((y - y.mean()) ** 2).sum()\n",
    "    ss_res = ((y - y_val_pred) ** 2).sum()\n",
    "    sigmasq = ss_tot / X.shape[0]\n",
    "    p = X.shape[1]\n",
    "    n = X.shape[0]\n",
    "    \n",
    "    return (ss_res + (np.log(n) * p * sigmasq)) / ss_tot"
   ]
  },
  {
   "cell_type": "code",
   "execution_count": null,
   "metadata": {},
   "outputs": [],
   "source": [
    "# LOAD IN MAIN DATASET\n",
    "df = pd.read_csv(\"data/iowaliquor.csv\")\n",
    "# df_sample = pd.read_csv(\"data/iowa-sample.csv\")"
   ]
  },
  {
   "cell_type": "code",
   "execution_count": null,
   "metadata": {},
   "outputs": [],
   "source": [
    "# LOAD IN CENSUS DATASET\n",
    "df_raw_county = pd.read_csv(\"data/co-est2019-alldata.csv\", encoding = \"ISO-8859-1\")\n",
    "df_raw_county[\"id\"] = df_raw_county.index"
   ]
  },
  {
   "cell_type": "code",
   "execution_count": null,
   "metadata": {},
   "outputs": [],
   "source": [
    "df_county_year = pd.wide_to_long(df_raw_county.drop([\"SUMLEV\",\"REGION\",\"DIVISION\",\"STATE\",\"COUNTY\",\"CENSUS2010POP\",\"ESTIMATESBASE2010\"],axis = 1),\n",
    "                  [\"POPESTIMATE\",\"NPOCHG_\",\"BIRTHS\",\n",
    "                  \"DEATHS\",\"NATURALINC\",\"INTERNATIONALMIG\",\n",
    "                  \"DOMESTICMIG\",\"NETMIG\",\"RESIDUAL\",\n",
    "                  \"GQESTIMATESBASE\",\"RBIRTH\",\"RDEATH\",\"RNATURALINC\",\n",
    "                  \"RINTERNATIONALMIG\",\"RDOMESTICMIG\",\"RNETMIG\",\"NPOPCHG_\",\"GQESTIMATES\"], i=\"id\", j=\"year\")\n",
    "\n",
    "df_county_year = df_county_year[df_county_year[\"STNAME\"] == \"Iowa\"]\n",
    "df_county_year[\"CTYNAME\"] = df_county_year[\"CTYNAME\"].str.replace(\" County\", \"\").str.lower()\n",
    "df_county_year = df_county_year.drop(\"NPOCHG_\", axis = 1).dropna(axis = 1)\n",
    "df_county_year = df_county_year[[\"CTYNAME\",\"POPESTIMATE\"]]"
   ]
  },
  {
   "cell_type": "code",
   "execution_count": null,
   "metadata": {},
   "outputs": [],
   "source": [
    "df_county_year.head()"
   ]
  },
  {
   "cell_type": "code",
   "execution_count": null,
   "metadata": {},
   "outputs": [],
   "source": [
    "# LOAD IN EMPLLOYMENT DATA\n",
    "df_raw_employment = pd.read_csv(\"data/Iowa_Quarterly_Census_of_Employment_and_Wage_data__Statewide_and_County_.csv\")\n",
    "df_raw_employment.fillna(0)"
   ]
  },
  {
   "cell_type": "code",
   "execution_count": null,
   "metadata": {},
   "outputs": [],
   "source": [
    "df_employement = pd.pivot_table(df_raw_employment,\n",
    "               index = [\"Year\", \"Quarter\", \"Area Name\"],\n",
    "               values = [\"Average Emp\", \"Wages\"],\n",
    "               aggfunc = np.sum\n",
    "              ).reset_index()\n",
    "\n",
    "df_employement[\"Area Name\"] = df_employement[\"Area Name\"].str.lower()"
   ]
  },
  {
   "cell_type": "code",
   "execution_count": null,
   "metadata": {},
   "outputs": [],
   "source": [
    "df_employement[\"Year\"] = df_employement[\"Year\"].astype('str')\n",
    "df_employement[\"Quarter\"] = df_employement[\"Quarter\"].astype('str')"
   ]
  },
  {
   "cell_type": "code",
   "execution_count": null,
   "metadata": {},
   "outputs": [],
   "source": [
    "# df_employement.head()"
   ]
  },
  {
   "cell_type": "code",
   "execution_count": null,
   "metadata": {},
   "outputs": [],
   "source": [
    "df[\"County\"] = df[\"County\"].str.lower()"
   ]
  },
  {
   "cell_type": "code",
   "execution_count": null,
   "metadata": {},
   "outputs": [],
   "source": [
    "df[\"Year\"] = pd.DatetimeIndex(df['Date']).year\n",
    "df[\"Quarter\"] = pd.DatetimeIndex(df['Date']).quarter"
   ]
  },
  {
   "cell_type": "code",
   "execution_count": null,
   "metadata": {},
   "outputs": [],
   "source": [
    "df[\"Year\"] = df[\"Year\"].astype('str')\n",
    "df[\"Quarter\"] = df[\"Quarter\"].astype('str')\n",
    "df[\"Pack\"] = df[\"Pack\"].astype('str')"
   ]
  },
  {
   "cell_type": "code",
   "execution_count": null,
   "metadata": {},
   "outputs": [],
   "source": [
    "GROUP_VARIABLES = ['County','Year','Quarter']\n",
    "NUMERIC_VARIABLES = ['Bottle Volume (ml)','State Bottle Cost', 'State Bottle Retail',\n",
    "                     'Bottles Sold','Sale (Dollars)', 'Volume Sold (Liters)', 'Volume Sold (Gallons)']\n",
    "\n",
    "df_agg =  pd.pivot_table(df, \n",
    "                        index = GROUP_VARIABLES,\n",
    "                        values = NUMERIC_VARIABLES,\n",
    "                        aggfunc = np.sum).reset_index().merge(df_employement, 'inner', left_on = ['Year','County', 'Quarter'], right_on = ['Year','Area Name', 'Quarter']).dropna()"
   ]
  },
  {
   "cell_type": "code",
   "execution_count": null,
   "metadata": {},
   "outputs": [],
   "source": [
    "df_county_year = df_county_year.reset_index()"
   ]
  },
  {
   "cell_type": "code",
   "execution_count": null,
   "metadata": {},
   "outputs": [],
   "source": [
    "df_agg[\"Year\"] = df_agg[\"Year\"].astype('int32')"
   ]
  },
  {
   "cell_type": "code",
   "execution_count": null,
   "metadata": {},
   "outputs": [],
   "source": [
    "df_agg = df_agg.merge(df_county_year, 'inner', left_on = ['Year','County'], right_on = ['year','CTYNAME']).dropna()"
   ]
  },
  {
   "cell_type": "code",
   "execution_count": null,
   "metadata": {},
   "outputs": [],
   "source": [
    "df_agg[\"Average Emp per Capita\"] = df_agg[\"Average Emp\"] / df_agg[\"POPESTIMATE\"]\n",
    "df_agg[\"Wages per Capita\"] = df_agg[\"Wages\"] / df_agg[\"POPESTIMATE\"]\n",
    "df_agg[\"Volume Sold (Gallons) per Capita\"] = df_agg[\"Volume Sold (Gallons)\"] / df_agg[\"POPESTIMATE\"]\n",
    "df_agg[\"Volume Sold (Liters) per Capita\"] = df_agg[\"Volume Sold (Liters)\"] / df_agg[\"POPESTIMATE\"]"
   ]
  },
  {
   "cell_type": "code",
   "execution_count": null,
   "metadata": {},
   "outputs": [],
   "source": [
    "# dollars per capita is skewed right\n",
    "df_agg[\"sqrt(Sale (Dollars) per Capita)\"] = np.sqrt(df_agg[\"Sale (Dollars)\"] / df_agg[\"POPESTIMATE\"])"
   ]
  },
  {
   "cell_type": "code",
   "execution_count": null,
   "metadata": {},
   "outputs": [],
   "source": [
    "df_agg[\"Bottles Sold per Capita\"] = df_agg[\"Bottles Sold\"] / df_agg[\"POPESTIMATE\"]\n",
    "df_agg[\"Bottle Volume (ml) per Capita\"] = df_agg[\"Bottle Volume (ml)\"] / df_agg[\"POPESTIMATE\"]"
   ]
  },
  {
   "cell_type": "code",
   "execution_count": null,
   "metadata": {},
   "outputs": [],
   "source": [
    "df_agg.head()"
   ]
  },
  {
   "cell_type": "code",
   "execution_count": null,
   "metadata": {},
   "outputs": [],
   "source": [
    "#---------------------------------\n",
    "# 'Volume Sold (Liters) per Capita' AS RESPONSE VARIABLE\n",
    "#---------------------------------"
   ]
  },
  {
   "cell_type": "code",
   "execution_count": null,
   "metadata": {},
   "outputs": [],
   "source": [
    "X_train,X_test, y_train, y_test = train_test_split(.5, df_agg,\"sqrt(Sale (Dollars) per Capita)\")\n",
    "\n",
    "VARS = [\"Year\",\"Quarter\",\"Average Emp per Capita\",\"Wages per Capita\"] \n",
    "b = linear_regression(X_train[VARS], y_train)\n",
    "\n",
    "print(\"R^2: \" + str(r2(b, X_train[VARS], y_train)))\n",
    "print(\"Adjusted R^2: \" + str(adj_r2(b, X_train[VARS], y_train)))\n",
    "print(\"RMSE: \" + str(rmse(b, X_test[VARS], y_test)))\n",
    "print(\"AIC: \" + str(aic(b,X_test[VARS],y_test)))\n",
    "print(\"BIC: \" + str(bic(b,X_test[VARS],y_test)))\n",
    "\n",
    "qqplot(b, X_train[VARS], y_train)"
   ]
  },
  {
   "cell_type": "code",
   "execution_count": null,
   "metadata": {},
   "outputs": [],
   "source": [
    "X_train,X_test, y_train, y_test = train_test_split(.5, df_agg,\"Volume Sold (Liters) per Capita\")\n",
    "\n",
    "VARS = [\"Year\",\"Quarter\",\"Average Emp per Capita\",\"Wages per Capita\"] \n",
    "b = linear_regression(X_train[VARS], y_train)\n",
    "\n",
    "print(\"R^2: \" + str(r2(b, X_train[VARS], y_train)))\n",
    "print(\"Adjusted R^2: \" + str(adj_r2(b, X_train[VARS], y_train)))\n",
    "print(\"RMSE: \" + str(rmse(b, X_test[VARS], y_test)))\n",
    "print(\"AIC: \" + str(aic(b,X_test[VARS],y_test)))\n",
    "print(\"BIC: \" + str(bic(b,X_test[VARS],y_test)))\n",
    "\n",
    "qqplot(b, X_train[VARS], y_train)"
   ]
  }
 ],
 "metadata": {
  "kernelspec": {
   "display_name": "Python 3",
   "language": "python",
   "name": "python3"
  },
  "language_info": {
   "codemirror_mode": {
    "name": "ipython",
    "version": 3
   },
   "file_extension": ".py",
   "mimetype": "text/x-python",
   "name": "python",
   "nbconvert_exporter": "python",
   "pygments_lexer": "ipython3",
   "version": "3.6.5"
  }
 },
 "nbformat": 4,
 "nbformat_minor": 4
}
